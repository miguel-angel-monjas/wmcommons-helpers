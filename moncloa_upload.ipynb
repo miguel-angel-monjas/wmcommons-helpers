{
 "cells": [
  {
   "cell_type": "code",
   "execution_count": 40,
   "metadata": {},
   "outputs": [],
   "source": [
    "#!/usr/bin/python\n",
    "# -*- coding: latin-1 -*-\n",
    "\n",
    "import inspect, os, sys\n",
    "\n",
    "try :\n",
    "    import pywikibot as pb\n",
    "    from pywikibot.specialbots import UploadRobot\n",
    "\n",
    "except :\n",
    "    current_folder = os.path.realpath(os.path.abspath(os.path.split(inspect.getfile(inspect.currentframe()))[0]))\n",
    "    folder_parts = current_folder.split(os.sep)\n",
    "    pywikibot_folder = os.sep.join(folder_parts[:-1])\n",
    "\n",
    "    if current_folder not in sys.path:\n",
    "        sys.path.insert(0, current_folder)\n",
    "    if pywikibot_folder not in sys.path:\n",
    "        sys.path.insert(0, pywikibot_folder)\n",
    "\n",
    "    import pywikibot as pb\n",
    "    from pywikibot.specialbots import UploadRobot\n",
    "\n",
    "from http_request_randomizer.requests.proxy.requestProxy import RequestProxy\n",
    "\n",
    "from bs4 import BeautifulSoup\n",
    "from mako.template import Template\n",
    "import requests\n",
    "from requests.compat import quote\n",
    "\n",
    "from PIL import Image\n",
    "from io import BytesIO\n",
    "import re\n",
    "\n",
    "import dateparser as dp\n",
    "import datetime\n",
    "\n",
    "commons_site = pb.Site(\"commons\", \"commons\")"
   ]
  },
  {
   "cell_type": "code",
   "execution_count": 41,
   "metadata": {},
   "outputs": [],
   "source": [
    "from modules.wmtools import is_commons_file, get_hash"
   ]
  },
  {
   "cell_type": "code",
   "execution_count": 42,
   "metadata": {},
   "outputs": [],
   "source": [
    "cwd = os.getcwd()\n",
    "\n",
    "images_directory = os.path.join(cwd, 'images')\n",
    "if not os.path.exists(images_directory):\n",
    "    os.makedirs(images_directory)"
   ]
  },
  {
   "cell_type": "code",
   "execution_count": null,
   "metadata": {},
   "outputs": [],
   "source": [
    "req_proxy = RequestProxy()"
   ]
  },
  {
   "cell_type": "code",
   "execution_count": 78,
   "metadata": {},
   "outputs": [],
   "source": [
    "url = 'http://www.lamoncloa.gob.es/multimedia/galeriasfotograficas/presidente/Paginas/2015/rajoy-es-entrevistado-en-.aspx'\n",
    "excluded = []\n",
    "categories = ['Ana Blanco', \n",
    "              'Mariano Rajoy in 2015',\n",
    "              'October 2015 in Madrid',\n",
    "              'Televisión Española']"
   ]
  },
  {
   "cell_type": "code",
   "execution_count": 79,
   "metadata": {},
   "outputs": [
    {
     "name": "stderr",
     "output_type": "stream",
     "text": [
      "2018-01-20 22:43:28,542 root   DEBUG    Using headers: {'Connection': 'close', 'User-Agent': 'Mozilla/5.0 (X11; U; Linux x86_64; pl-PL; rv:2.0) Gecko/20110307 Firefox/4.'}\n",
      "2018-01-20 22:43:28,545 root   DEBUG    Using proxy: 91.243.242.5:8080 | FreeProxy\n",
      "2018-01-20 22:43:58,584 root   DEBUG    Proxy unreachable - Removed Straggling proxy: 91.243.242.5:8080 | FreeProxy PL Size = 2177\n",
      "2018-01-20 22:43:58,589 root   DEBUG    Using headers: {'Connection': 'close', 'User-Agent': 'Mozilla/5.0 (X11; U; Linux x86_64; es-ES; rv:1.9.1.8) Gecko/20100216 Fedora/3.5.8-1.fc11 Firefox/3.5.'}\n",
      "2018-01-20 22:43:58,591 root   DEBUG    Using proxy: 116.58.243.190:8080 | FreeProxy\n"
     ]
    },
    {
     "name": "stdout",
     "output_type": "stream",
     "text": [
      "Trying\n"
     ]
    },
    {
     "name": "stderr",
     "output_type": "stream",
     "text": [
      "2018-01-20 22:44:28,628 root   DEBUG    Proxy unreachable - Removed Straggling proxy: 116.58.243.190:8080 | FreeProxy PL Size = 2176\n",
      "2018-01-20 22:44:28,634 root   DEBUG    Using headers: {'Connection': 'close', 'User-Agent': 'Mozilla/5.0 (X11; U; Linux x86_64; rv:1.9.1.1) Gecko/20090716 Linux Firefox/3.5.'}\n",
      "2018-01-20 22:44:28,637 root   DEBUG    Using proxy: 188.165.251.222:1080 | FreeProxy\n",
      "2018-01-20 22:44:28,725 root   DEBUG    Proxy unreachable - Removed Straggling proxy: 188.165.251.222:1080 | FreeProxy PL Size = 2175\n",
      "2018-01-20 22:44:28,731 root   DEBUG    Using headers: {'Connection': 'close', 'User-Agent': 'Mozilla/5.0 (Macintosh; U; PPC Mac OS X 10_4_11; de-de) AppleWebKit/533.16 (KHTML, like Gecko) Version/4.1 Safari/533.1'}\n",
      "2018-01-20 22:44:28,733 root   DEBUG    Using proxy: 109.173.9.44:8080 | FreeProxy\n"
     ]
    },
    {
     "name": "stdout",
     "output_type": "stream",
     "text": [
      "Trying\n",
      "Trying\n",
      "RR Status 200\n"
     ]
    }
   ],
   "source": [
    "while True:\n",
    "    request = req_proxy.generate_proxied_request(url)\n",
    "    if request is not None:\n",
    "        #print(\"{0}\".format(u''.join(request.text).encode('utf-8')))\n",
    "        response = request.text\n",
    "        break\n",
    "    else :\n",
    "        print ('Trying')\n",
    "\n",
    "soup = BeautifulSoup(response, 'html.parser')"
   ]
  },
  {
   "cell_type": "code",
   "execution_count": 80,
   "metadata": {},
   "outputs": [
    {
     "data": {
      "text/plain": [
       "'Rajoy es entrevistado en los informativos de TVE'"
      ]
     },
     "execution_count": 80,
     "metadata": {},
     "output_type": "execute_result"
    }
   ],
   "source": [
    "title = soup.find_all(\"h1\", class_=\"contenidoTitulo\")[0].get_text().strip().replace(':', ' - ').replace('  ', ' ')\n",
    "#title = u'Segundo Gobierno de Rodríguez Zapatero (IX Legislatura) 2010'\n",
    "title"
   ]
  },
  {
   "cell_type": "code",
   "execution_count": 81,
   "metadata": {},
   "outputs": [
    {
     "data": {
      "text/plain": [
       "'2015-10-20'"
      ]
     },
     "execution_count": 81,
     "metadata": {},
     "output_type": "execute_result"
    }
   ],
   "source": [
    "try:\n",
    "    date_string = soup.find_all(\"div\", class_=\"contenidoFecha\")[0].get_text()\n",
    "    pub_date_sp = ' '.join(date_string.strip().split(' ')[-4:])\n",
    "    parsed_pub_date = dp.parse(pub_date_sp)\n",
    "    pub_date = parsed_pub_date.strftime('%Y-%m-%d')\n",
    "    \n",
    "    year_date = parsed_pub_date.strftime('%Y')\n",
    "    if 'La Moncloa' in date_string:\n",
    "        categories.append('Palacio de la Moncloa')\n",
    "        categories.append(year_date + ' in Madrid')\n",
    "except :\n",
    "    pub_date = None\n",
    "\n",
    "pub_date"
   ]
  },
  {
   "cell_type": "code",
   "execution_count": 82,
   "metadata": {},
   "outputs": [
    {
     "data": {
      "text/plain": [
       "['http://www.lamoncloa.gob.es/multimedia/fotos/presidente/PublishingImages/2015/261015TVE4.jpg',\n",
       " 'http://www.lamoncloa.gob.es/multimedia/fotos/presidente/PublishingImages/2015/261015TVE3.jpg',\n",
       " 'http://www.lamoncloa.gob.es/multimedia/fotos/presidente/PublishingImages/2015/261015TVE2.jpg',\n",
       " 'http://www.lamoncloa.gob.es/multimedia/fotos/presidente/PublishingImages/2015/261015TVE1.jpg']"
      ]
     },
     "execution_count": 82,
     "metadata": {},
     "output_type": "execute_result"
    }
   ],
   "source": [
    "p = re.compile(\"gFIO\\[\\d{1,2}\\] = \\\\'(.*)\\\\';\")\n",
    "image_list = ['http://www.lamoncloa.gob.es' + url for url in re.findall(p, response)]\n",
    "image_list"
   ]
  },
  {
   "cell_type": "code",
   "execution_count": 83,
   "metadata": {},
   "outputs": [
    {
     "data": {
      "text/plain": [
       "['El presidente del Gobierno, Mariano Rajoy, es entrevistado por Ana Blanco en los informativos de TVE',\n",
       " 'El presidente del Gobierno, Mariano Rajoy, es entrevistado por Ana Blanco en los informativos de TVE.<br>',\n",
       " 'El presidente del Gobierno, Mariano Rajoy, es entrevistado por Ana Blanco en los informativos de TVE.<br>',\n",
       " 'El presidente del Gobierno, Mariano Rajoy, es entrevistado por Ana Blanco en los informativos de TVE']"
      ]
     },
     "execution_count": 83,
     "metadata": {},
     "output_type": "execute_result"
    }
   ],
   "source": [
    "p = re.compile(\"gFT\\[\\d{1,2}\\] = \\\\'(.*)\\\\';\")\n",
    "description_list = [desc.strip().rstrip('.') for desc in re.findall(p, response)]\n",
    "description_list"
   ]
  },
  {
   "cell_type": "code",
   "execution_count": 84,
   "metadata": {},
   "outputs": [
    {
     "data": {
      "text/plain": [
       "['Pool Moncloa/Diego Crespo',\n",
       " 'Pool Moncloa/Diego Crespo',\n",
       " 'Pool Moncloa/Diego Crespo',\n",
       " 'Pool Moncloa/Diego Crespo']"
      ]
     },
     "execution_count": 84,
     "metadata": {},
     "output_type": "execute_result"
    }
   ],
   "source": [
    "p = re.compile(\"gFA\\[\\d{1,2}\\] = \\\\'(.*)\\\\';\")\n",
    "author_list = [author.strip() for author in re.findall(p, response)]\n",
    "author_list"
   ]
  },
  {
   "cell_type": "code",
   "execution_count": 85,
   "metadata": {},
   "outputs": [
    {
     "data": {
      "text/plain": [
       "[True, True, True, True]"
      ]
     },
     "execution_count": 85,
     "metadata": {},
     "output_type": "execute_result"
    }
   ],
   "source": [
    "truth_list = ['Pool' in author for author in author_list]\n",
    "truth_list"
   ]
  },
  {
   "cell_type": "code",
   "execution_count": 86,
   "metadata": {},
   "outputs": [],
   "source": [
    "template = u\"\"\"=={{int:filedesc}}==\n",
    "{{Information\n",
    "|description={{es|1=${description}}}\n",
    "|date=${date}\n",
    "|source=[${url} Galería fotográfica: ${title}]\n",
    "|author=Ministerio de la Presidencia. Gobierno de España (${author})\n",
    "|permission=\n",
    "|other versions=\n",
    "}}\n",
    "\n",
    "=={{int:license-header}}==\n",
    "{{LicenseReview}}\n",
    "{{attribution-La Moncloa}}\n",
    "\n",
    "[[Category:Files uploaded by User:Discasto]]\n",
    "${cat_string}\"\"\"\n",
    "\n",
    "vars = {\n",
    "    \"url\": url,\n",
    "    \"description\": None,\n",
    "    \"author\": None,\n",
    "    \"date\": pub_date,\n",
    "    \"title\": title,\n",
    "    \"cat_string\": '\\n'.join(['[[Category:'+i+']]' for i in categories])\n",
    "}"
   ]
  },
  {
   "cell_type": "code",
   "execution_count": null,
   "metadata": {},
   "outputs": [
    {
     "name": "stderr",
     "output_type": "stream",
     "text": [
      "2018-01-20 22:50:07,618 root   DEBUG    Using headers: {'Connection': 'close', 'User-Agent': 'Mozilla/5.0 (Windows NT 6.1; WOW64; rv:2.0b11pre) Gecko/20110128 Firefox/4.0b11pr'}\n",
      "2018-01-20 22:50:07,620 root   DEBUG    Using proxy: 103.74.246.94:42419 | FreeProxy\n"
     ]
    },
    {
     "name": "stdout",
     "output_type": "stream",
     "text": [
      "Trying download\n"
     ]
    }
   ],
   "source": [
    "used_names = []\n",
    "\n",
    "global_counter = 1\n",
    "for i, image in enumerate(image_list):\n",
    "    # If the image is excluded, skip\n",
    "    if i in excluded:\n",
    "        print (\"Image excluded. Skipping\")\n",
    "        continue\n",
    "    elif truth_list[i] == False:\n",
    "        print (\"Image from a party other than Moncloa. Skipping\")\n",
    "        continue        \n",
    "        \n",
    "    # First, the image is downloaded and stored\n",
    "    image_url = quote(image.encode('utf-8'), ':/')\n",
    "    image_name = '{} {:02d}.jpg'.format(title.replace(':', ' -').replace('  ', ' '), global_counter)\n",
    "    global_counter += 1\n",
    "    image_path = os.path.join(images_directory, image_name)\n",
    "    while True:\n",
    "        print ('Trying download')\n",
    "        img_request = req_proxy.generate_proxied_request(image_url)\n",
    "        if img_request is not None:\n",
    "            image = Image.open(BytesIO(img_request.content))\n",
    "            image.save(image_path)\n",
    "            print ('Image downloaded. Starting upload process')\n",
    "            break\n",
    "        else :\n",
    "            print ('Still trying download')\n",
    "\n",
    "    # If the image is already in Commons, skip\n",
    "    if is_commons_file(get_hash(image_path)) :\n",
    "        print (\"Image already in commons. Skipping\")\n",
    "        os.remove(image_path)\n",
    "        continue\n",
    "\n",
    "    # If the image name is already in commons, find a new name\n",
    "    if pb.Page(commons_site, image_name, ns=6).exists():\n",
    "        print (\"Image name ({0}) already used in Commons\".format(image_name))\n",
    "        used_names.append(image_name)\n",
    "        \n",
    "    while True:\n",
    "        if image_name in used_names :\n",
    "            # Finding a new name\n",
    "            image_subject = '.'.join(image_name.split('.')[:-1])\n",
    "            image_extension = 'jpg'\n",
    "            p = re.compile('(.*) ([0-9]{2}\\.jpg)')\n",
    "            m = p.match(image_name)\n",
    "            if m is None:\n",
    "                image_name = image_subject + ' 01.' + image_extension\n",
    "            else :\n",
    "                counter = int(m.group(2)[:2]) + 1\n",
    "                image_name = '{} {:02d}.{}'.format(m.group(1), counter, image_extension)\n",
    "\n",
    "            if pb.Page(commons_site, image_name, ns=6).exists():\n",
    "                print (\"Image name ({0}) already used in Commons. Finding a new name\".format(image_name))\n",
    "                used_names.append(image_name)\n",
    "        else :\n",
    "            print (\"Preparing to upload image with name {0}\".format(image_name))\n",
    "            used_names.append(image_name)\n",
    "            break\n",
    "\n",
    "    # image upload\n",
    "    vars[\"description\"] = description_list[i]\n",
    "    vars[\"author\"] = author_list[i]\n",
    "    t = Template(template)\n",
    "    _text = t.render(**vars)\n",
    "\n",
    "    bot = UploadRobot(image_path,\n",
    "                      description = _text,\n",
    "                      useFilename = image_name,\n",
    "                      keepFilename = True,\n",
    "                      verifyDescription = False,\n",
    "                      ignoreWarning = True,\n",
    "                      targetSite = commons_site)\n",
    "    bot.run()\n",
    "\n",
    "    os.remove(image_path)"
   ]
  },
  {
   "cell_type": "code",
   "execution_count": null,
   "metadata": {},
   "outputs": [],
   "source": []
  }
 ],
 "metadata": {
  "kernelspec": {
   "display_name": "Python 3",
   "language": "python",
   "name": "python3"
  },
  "language_info": {
   "codemirror_mode": {
    "name": "ipython",
    "version": 3
   },
   "file_extension": ".py",
   "mimetype": "text/x-python",
   "name": "python",
   "nbconvert_exporter": "python",
   "pygments_lexer": "ipython3",
   "version": "3.6.3"
  }
 },
 "nbformat": 4,
 "nbformat_minor": 2
}
