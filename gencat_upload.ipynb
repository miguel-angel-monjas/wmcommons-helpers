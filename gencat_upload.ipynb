{
 "cells": [
  {
   "cell_type": "code",
   "execution_count": 6,
   "metadata": {},
   "outputs": [],
   "source": [
    "#!/usr/bin/python\n",
    "# -*- coding: latin-1 -*-\n",
    "\n",
    "import inspect, os, sys\n",
    "\n",
    "try :\n",
    "    import pywikibot as pb\n",
    "    from pywikibot.specialbots import UploadRobot\n",
    "\n",
    "except :\n",
    "    current_folder = os.path.realpath(os.path.abspath(os.path.split(inspect.getfile(inspect.currentframe()))[0]))\n",
    "    folder_parts = current_folder.split(os.sep)\n",
    "    pywikibot_folder = os.sep.join(folder_parts[:-1])\n",
    "\n",
    "    if current_folder not in sys.path:\n",
    "        sys.path.insert(0, current_folder)\n",
    "    if pywikibot_folder not in sys.path:\n",
    "        sys.path.insert(0, pywikibot_folder)\n",
    "\n",
    "    import pywikibot as pb\n",
    "    from pywikibot.specialbots import UploadRobot\n",
    "\n",
    "from bs4 import BeautifulSoup\n",
    "from mako.template import Template\n",
    "import requests\n",
    "from requests.compat import quote\n",
    "\n",
    "from PIL import Image\n",
    "from io import BytesIO\n",
    "import re\n",
    "\n",
    "commons_site = pb.Site(\"commons\", \"commons\")"
   ]
  },
  {
   "cell_type": "code",
   "execution_count": 7,
   "metadata": {},
   "outputs": [],
   "source": [
    "from modules.wmtools import is_commons_file, get_hash"
   ]
  },
  {
   "cell_type": "code",
   "execution_count": 8,
   "metadata": {},
   "outputs": [],
   "source": [
    "cwd = os.getcwd()\n",
    "\n",
    "images_directory = os.path.join(cwd, 'images')\n",
    "if not os.path.exists(images_directory):\n",
    "    os.makedirs(images_directory)"
   ]
  },
  {
   "cell_type": "code",
   "execution_count": 9,
   "metadata": {},
   "outputs": [],
   "source": [
    "#### User input:\n",
    "url = 'http://premsa.gencat.cat/pres_fsvp/AppJava/notapremsavw/304604/ca/generalitat-presenta-lany-fabra.do'\n",
    "\n",
    "user_agent = 'Mozilla/5.0 (Windows NT 6.1; WOW64; rv:40.0) Gecko/20100101 Firefox/40.1'\n",
    "headers = {'User-Agent' : user_agent}\n",
    "\n",
    "#### User input:\n",
    "categories = ['January 2017 in Barcelona',\n",
    "             'Jordi Ginebra i Serrabou',\n",
    "             'Pompeu Fabra',\n",
    "             'Ester Franquesa',\n",
    "             'Joandomènec Ros']"
   ]
  },
  {
   "cell_type": "code",
   "execution_count": 10,
   "metadata": {},
   "outputs": [
    {
     "data": {
      "text/plain": [
       "['January 2017 in Barcelona',\n",
       " 'Jordi Ginebra i Serrabou',\n",
       " 'Pompeu Fabra',\n",
       " 'Ester Franquesa',\n",
       " 'Joandomènec Ros',\n",
       " 'Files uploaded by User:Discasto']"
      ]
     },
     "execution_count": 10,
     "metadata": {},
     "output_type": "execute_result"
    }
   ],
   "source": [
    "#### User input:\n",
    "upload_categories = ['Files uploaded by User:Discasto']\n",
    "categories = categories + upload_categories\n",
    "categories"
   ]
  },
  {
   "cell_type": "code",
   "execution_count": 11,
   "metadata": {},
   "outputs": [],
   "source": [
    "r = requests.get(url, headers=headers)\n",
    "soup = BeautifulSoup(r.text, 'html.parser')"
   ]
  },
  {
   "cell_type": "code",
   "execution_count": 12,
   "metadata": {},
   "outputs": [
    {
     "data": {
      "text/plain": [
       "'2018-01-25'"
      ]
     },
     "execution_count": 12,
     "metadata": {},
     "output_type": "execute_result"
    }
   ],
   "source": [
    "pub_date=soup.find_all(\"span\", attrs={\"itemprop\": \"datePublished\"})[0].get_text().strip().split(' ')[0].split('-')\n",
    "pub_date.reverse()\n",
    "pub_date='-'.join(pub_date)\n",
    "pub_date"
   ]
  },
  {
   "cell_type": "code",
   "execution_count": 13,
   "metadata": {},
   "outputs": [
    {
     "data": {
      "text/plain": [
       "\"La Generalitat presenta l'any Fabra\""
      ]
     },
     "execution_count": 13,
     "metadata": {},
     "output_type": "execute_result"
    }
   ],
   "source": [
    "title = soup.find_all(\"h1\", class_=\"FW_headline\")[0].get_text().strip().replace('  ', ' ')\n",
    "#### User input:\n",
    "#title = u\"\"\n",
    "title"
   ]
  },
  {
   "cell_type": "code",
   "execution_count": 14,
   "metadata": {},
   "outputs": [
    {
     "data": {
      "text/plain": [
       "\"La Generalitat de Catalunya dedica l’any 2018 a la figura de Pompeu Fabra, coincidint amb els 150 anys del seu naixement i els 100 anys de la publicació de la Gramàtica catalana normativa. Els departaments de la Presidència i de Cultura impulsen la celebració de l’Any, acordada pel Govern en la sessió del 29 d'agost del 2017. La directora general de Política Lingüística, Ester Franquesa; el president de l'Institut d'Estudis Catalans, Joandomènec Ros, i el comissari de l'Any Fabra, Jordi Ginebra, han presentat avui les línies generals de la commemoració a la seu del Departament de Cultura.\""
      ]
     },
     "execution_count": 14,
     "metadata": {},
     "output_type": "execute_result"
    }
   ],
   "source": [
    "article_content = soup.find_all(\"div\", class_=\"FW_article-content\")[0].get_text().strip().split('\\n')[0]\n",
    "#### User input:\n",
    "#article_content = u\"El conseller d’Agricultura, Alimentació i Acció Rural, Joaquim Llena, acompanyat de la directora general d’Agricultura i Ramaderia, Rosa Cubel, i del director dels Serveis Territorials del DAR a Barcelona, Jaume Balagué, ha presidit, avui, l’acte de cloenda de l’Assemblea General Ordinària de la Federació Catalana d'Indústries de la Carn (FECIC), i el dinar posterior.\"\n",
    "article_content"
   ]
  },
  {
   "cell_type": "code",
   "execution_count": 15,
   "metadata": {},
   "outputs": [
    {
     "data": {
      "text/plain": [
       "\"=={{int:filedesc}}==\\n{{Information\\n|description={{ca|1=La Generalitat de Catalunya dedica l’any 2018 a la figura de Pompeu Fabra, coincidint amb els 150 anys del seu naixement i els 100 anys de la publicació de la Gramàtica catalana normativa. Els departaments de la Presidència i de Cultura impulsen la celebració de l’Any, acordada pel Govern en la sessió del 29 d'agost del 2017. La directora general de Política Lingüística, Ester Franquesa; el president de l'Institut d'Estudis Catalans, Joandomènec Ros, i el comissari de l'Any Fabra, Jordi Ginebra, han presentat avui les línies generals de la commemoració a la seu del Departament de Cultura.}}\\n|date=2018-01-25\\n|source=[http://premsa.gencat.cat/pres_fsvp/AppJava/notapremsavw/304604/ca/generalitat-presenta-lany-fabra.do Nota de Premsa - La Generalitat presenta l'any Fabra]\\n|author=Generalitat de Catalunya\\n|permission=\\n|other versions=\\n}}\\n\\n=={{int:license-header}}==\\n{{LicenseReview}}\\n{{attribution-gencat}}\\n\\n[[Category:Files uploaded by User:Discasto]]\\n[[Category:January 2017 in Barcelona]]\\n[[Category:Jordi Ginebra i Serrabou]]\\n[[Category:Pompeu Fabra]]\\n[[Category:Ester Franquesa]]\\n[[Category:Joandomènec Ros]]\\n[[Category:Files uploaded by User:Discasto]]\""
      ]
     },
     "execution_count": 15,
     "metadata": {},
     "output_type": "execute_result"
    }
   ],
   "source": [
    "template = u\"\"\"=={{int:filedesc}}==\n",
    "{{Information\n",
    "|description={{ca|1=${description}}}\n",
    "|date=${date}\n",
    "|source=[${url} Nota de Premsa - ${title}]\n",
    "|author=Generalitat de Catalunya\n",
    "|permission=\n",
    "|other versions=\n",
    "}}\n",
    "\n",
    "=={{int:license-header}}==\n",
    "{{LicenseReview}}\n",
    "{{attribution-gencat}}\n",
    "\n",
    "[[Category:Files uploaded by User:Discasto]]\n",
    "${cat_string}\"\"\"\n",
    "\n",
    "vars = {\n",
    "    \"url\": url,\n",
    "    \"description\": article_content,\n",
    "    \"date\": pub_date,\n",
    "    \"title\": title,\n",
    "    \"cat_string\": '\\n'.join(['[[Category:'+i+']]' for i in categories])\n",
    "}\n",
    "t = Template(template)\n",
    "_text = t.render(**vars)\n",
    "_text"
   ]
  },
  {
   "cell_type": "code",
   "execution_count": 16,
   "metadata": {},
   "outputs": [
    {
     "data": {
      "text/plain": [
       "[{'name': \"El comissari de l'Any FAbra, Jordi Ginebra; el president de l'Institut d'Estudis Catalans, Joandomènec Ros, i la directora general de Política Lingüística, Ester Franquesa\",\n",
       "  'url': 'http://www.gencat.cat/big/img/889/BIG_889585607012618_03.jpg'},\n",
       " {'name': \"Imatge de la presentació de l'Any Fabra\",\n",
       "  'url': 'http://www.gencat.cat/big/img/566/BIG_566104823012518_03.jpg'}]"
      ]
     },
     "execution_count": 16,
     "metadata": {},
     "output_type": "execute_result"
    }
   ],
   "source": [
    "image_list = [{\"url\": image[\"href\"].strip(), \"name\": image[\"title\"].replace(':', ' -').replace('  ', ' ').strip()} for image in soup.find_all(\"a\", class_=\"external\") if '.jpg' in image['href'].lower()]\n",
    "image_list"
   ]
  },
  {
   "cell_type": "code",
   "execution_count": 17,
   "metadata": {},
   "outputs": [
    {
     "name": "stdout",
     "output_type": "stream",
     "text": [
      "Preparing to upload image with name El comissari de l'Any FAbra, Jordi Ginebra; el president de l'Institut d'Estudis Catalans, Joandomènec Ros, i la directora general de Política Lingüística, Ester Franquesa.jpg\n"
     ]
    },
    {
     "name": "stderr",
     "output_type": "stream",
     "text": [
      "The suggested description is:\n",
      "=={{int:filedesc}}==\n",
      "{{Information\n",
      "|description={{ca|1=La Generalitat de Catalunya dedica l’any 2018 a la figura de Pompeu Fabra, coincidint amb els 150 anys del seu naixement i els 100 anys de la publicació de la Gramàtica catalana normativa. Els departaments de la Presidència i de Cultura impulsen la celebració de l’Any, acordada pel Govern en la sessió del 29 d'agost del 2017. La directora general de Política Lingüística, Ester Franquesa; el president de l'Institut d'Estudis Catalans, Joandomènec Ros, i el comissari de l'Any Fabra, Jordi Ginebra, han presentat avui les línies generals de la commemoració a la seu del Departament de Cultura.}}\n",
      "|date=2018-01-25\n",
      "|source=[http://premsa.gencat.cat/pres_fsvp/AppJava/notapremsavw/304604/ca/generalitat-presenta-lany-fabra.do Nota de Premsa - La Generalitat presenta l'any Fabra]\n",
      "|author=Generalitat de Catalunya\n",
      "|permission=\n",
      "|other versions=\n",
      "}}\n",
      "\n",
      "=={{int:license-header}}==\n",
      "{{LicenseReview}}\n",
      "{{attribution-gencat}}\n",
      "\n",
      "[[Category:Files uploaded by User:Discasto]]\n",
      "[[Category:January 2017 in Barcelona]]\n",
      "[[Category:Jordi Ginebra i Serrabou]]\n",
      "[[Category:Pompeu Fabra]]\n",
      "[[Category:Ester Franquesa]]\n",
      "[[Category:Joandomènec Ros]]\n",
      "[[Category:Files uploaded by User:Discasto]]\n",
      "Uploading file to commons:commons...\n",
      "Sleeping for 9.3 seconds, 2018-01-27 00:19:07\n"
     ]
    },
    {
     "name": "stdout",
     "output_type": "stream",
     "text": [
      "Image excluded. Skipping\n"
     ]
    },
    {
     "name": "stderr",
     "output_type": "stream",
     "text": [
      "Upload successful.\n",
      "Upload of El comissari de l'Any FAbra, Jordi Ginebra; el president de l'Institut d'Estudis Catalans, Joandomènec Ros, i la directora general de Política Lingüística, Ester Franquesa.jpg successful.\n",
      "\n",
      "1 pages read\n",
      "1 pages written\n",
      "Script terminated successfully.\n"
     ]
    }
   ],
   "source": [
    "#### User input:\n",
    "excluded = [1]\n",
    "\n",
    "used_names = []\n",
    "\n",
    "for i, image in enumerate(image_list):\n",
    "    # If the image is excluded, skip\n",
    "    if i in excluded:\n",
    "        print (\"Image excluded. Skipping\")\n",
    "        continue\n",
    "        \n",
    "    # First, the image is downloaded and stored\n",
    "    image_url = quote(image[\"url\"].encode('utf-8'), ':/')\n",
    "    image_name = image[\"name\"].replace(':', ' -').replace('  ', ' ') + '.jpg'\n",
    "    image_path = os.path.join(images_directory, image_name)\n",
    "    try: \n",
    "        r = requests.get(image_url, headers=headers)\n",
    "        image = Image.open(BytesIO(r.content))\n",
    "        image.save(image_path)\n",
    "    except :\n",
    "        print ('Failed download. Skipping')\n",
    "        continue\n",
    "\n",
    "    # If the image is already in Commons, skip\n",
    "    if is_commons_file(get_hash(image_path)) :\n",
    "        print (\"Image already in commons. Skipping\")\n",
    "        os.remove(image_path)\n",
    "        continue\n",
    "\n",
    "    # If the image name is already in commons, find a new name\n",
    "    if pb.Page(commons_site, image_name, ns=6).exists():\n",
    "        print (\"Image name ({0}) already used in Commons\".format(image_name))\n",
    "        used_names.append(image_name)\n",
    "        \n",
    "    while True:\n",
    "        if image_name in used_names :\n",
    "            # Finding a new name\n",
    "            image_subject = '.'.join(image_name.split('.')[:-1])\n",
    "            image_extension = 'jpg'\n",
    "            p = re.compile('(.*) ([0-9]{2}\\.jpg)')\n",
    "            m = p.match(image_name)\n",
    "            if m is None:\n",
    "                image_name = image_subject + ' 01.' + image_extension\n",
    "            else :\n",
    "                counter = int(m.group(2)[:2]) + 1\n",
    "                image_name = '{} {:02d}.{}'.format(m.group(1), counter, image_extension)\n",
    "\n",
    "            if pb.Page(commons_site, image_name, ns=6).exists():\n",
    "                print (\"Image name ({0}) already used in Commons. Finding a new name\".format(image_name))\n",
    "                used_names.append(image_name)\n",
    "        else :\n",
    "            print (\"Preparing to upload image with name {0}\".format(image_name))\n",
    "            used_names.append(image_name)\n",
    "            break\n",
    "\n",
    "    # image upload\n",
    "    bot = UploadRobot([image_path],\n",
    "                      description = _text,\n",
    "                      useFilename = image_name,\n",
    "                      keepFilename = True,\n",
    "                      verifyDescription = False,\n",
    "                      ignoreWarning = True,\n",
    "                      targetSite = commons_site)\n",
    "    bot.run()\n",
    "\n",
    "    os.remove(image_path)"
   ]
  },
  {
   "cell_type": "code",
   "execution_count": null,
   "metadata": {},
   "outputs": [],
   "source": []
  }
 ],
 "metadata": {
  "kernelspec": {
   "display_name": "Python 3",
   "language": "python",
   "name": "python3"
  },
  "language_info": {
   "codemirror_mode": {
    "name": "ipython",
    "version": 3
   },
   "file_extension": ".py",
   "mimetype": "text/x-python",
   "name": "python",
   "nbconvert_exporter": "python",
   "pygments_lexer": "ipython3",
   "version": "3.6.3"
  }
 },
 "nbformat": 4,
 "nbformat_minor": 2
}
