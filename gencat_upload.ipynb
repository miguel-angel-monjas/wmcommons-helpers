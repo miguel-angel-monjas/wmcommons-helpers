{
 "cells": [
  {
   "cell_type": "code",
   "execution_count": 3,
   "metadata": {
    "collapsed": true
   },
   "outputs": [],
   "source": [
    "#!/usr/bin/python\n",
    "# -*- coding: latin-1 -*-\n",
    "\n",
    "import inspect, os, sys\n",
    "\n",
    "try :\n",
    "    import pywikibot as pb\n",
    "    from pywikibot.specialbots import UploadRobot\n",
    "\n",
    "except :\n",
    "    current_folder = os.path.realpath(os.path.abspath(os.path.split(inspect.getfile(inspect.currentframe()))[0]))\n",
    "    folder_parts = current_folder.split(os.sep)\n",
    "    pywikibot_folder = os.sep.join(folder_parts[:-1])\n",
    "\n",
    "    if current_folder not in sys.path:\n",
    "        sys.path.insert(0, current_folder)\n",
    "    if pywikibot_folder not in sys.path:\n",
    "        sys.path.insert(0, pywikibot_folder)\n",
    "\n",
    "    import pywikibot as pb\n",
    "    from pywikibot.specialbots import UploadRobot\n",
    "\n",
    "from bs4 import BeautifulSoup\n",
    "from mako.template import Template\n",
    "import requests\n",
    "from requests.compat import quote\n",
    "\n",
    "from PIL import Image\n",
    "from io import BytesIO\n",
    "import re\n",
    "\n",
    "commons_site = pb.Site(\"commons\", \"commons\")"
   ]
  },
  {
   "cell_type": "code",
   "execution_count": 4,
   "metadata": {},
   "outputs": [],
   "source": [
    "from modules.wmtools import is_commons_file, get_hash"
   ]
  },
  {
   "cell_type": "code",
   "execution_count": 5,
   "metadata": {
    "collapsed": true
   },
   "outputs": [],
   "source": [
    "cwd = os.getcwd()\n",
    "\n",
    "images_directory = os.path.join(cwd, 'images')\n",
    "if not os.path.exists(images_directory):\n",
    "    os.makedirs(images_directory)"
   ]
  },
  {
   "cell_type": "code",
   "execution_count": 6,
   "metadata": {
    "collapsed": true
   },
   "outputs": [],
   "source": [
    "#### User input:\n",
    "url = 'http://premsa.gencat.cat/pres_fsvp/AppJava/notapremsavw/304604/ca/generalitat-presenta-lany-fabra.do'\n",
    "\n",
    "user_agent = 'Mozilla/5.0 (Windows NT 6.1; WOW64; rv:40.0) Gecko/20100101 Firefox/40.1'\n",
    "headers = {'User-Agent' : user_agent}\n",
    "\n",
    "#### User input:\n",
    "categories = ['January 2017 in Barcelona',\n",
    "             'Jordi Ginebra i Serrabou',\n",
    "             'Pompeu Fabra',\n",
    "             'Ester Franquesa',\n",
    "             'Joandomènec Ros']"
   ]
  },
  {
   "cell_type": "code",
   "execution_count": 7,
   "metadata": {},
   "outputs": [
    {
     "data": {
      "text/plain": [
       "['January 2017 in Barcelona',\n",
       " 'Jordi Ginebra i Serrabou',\n",
       " 'Pompeu Fabra',\n",
       " 'Ester Franquesa',\n",
       " 'Joandom\\xc3\\xa8nec Ros',\n",
       " 'Files uploaded by User:Discasto']"
      ]
     },
     "execution_count": 7,
     "metadata": {},
     "output_type": "execute_result"
    }
   ],
   "source": [
    "#### User input:\n",
    "upload_categories = ['Files uploaded by User:Discasto']\n",
    "categories = categories + upload_categories\n",
    "categories"
   ]
  },
  {
   "cell_type": "code",
   "execution_count": 8,
   "metadata": {
    "collapsed": true
   },
   "outputs": [],
   "source": [
    "r = requests.get(url, headers=headers)\n",
    "soup = BeautifulSoup(r.text, 'html.parser')"
   ]
  },
  {
   "cell_type": "code",
   "execution_count": 9,
   "metadata": {},
   "outputs": [
    {
     "data": {
      "text/plain": [
       "u'2018-01-25'"
      ]
     },
     "execution_count": 9,
     "metadata": {},
     "output_type": "execute_result"
    }
   ],
   "source": [
    "pub_date=soup.find_all(\"span\", attrs={\"itemprop\": \"datePublished\"})[0].get_text().strip().split(' ')[0].split('-')\n",
    "pub_date.reverse()\n",
    "pub_date='-'.join(pub_date)\n",
    "pub_date"
   ]
  },
  {
   "cell_type": "code",
   "execution_count": 13,
   "metadata": {},
   "outputs": [
    {
     "data": {
      "text/plain": [
       "\"La Generalitat presenta l'any Fabra\""
      ]
     },
     "execution_count": 13,
     "metadata": {},
     "output_type": "execute_result"
    }
   ],
   "source": [
    "title = soup.find_all(\"h1\", class_=\"FW_headline\")[0].get_text().strip().replace('  ', ' ')\n",
    "#### User input:\n",
    "#title = u\"\"\n",
    "title"
   ]
  },
  {
   "cell_type": "code",
   "execution_count": 16,
   "metadata": {},
   "outputs": [
    {
     "data": {
      "text/plain": [
       "\"La Generalitat de Catalunya dedica l\\xe2\\x80\\x99any 2018 a la figura de Pompeu Fabra, coincidint amb els 150 anys del seu naixement i els 100 anys de la publicaci\\xc3\\xb3 de la Gram\\xc3\\xa0tica catalana normativa. Els departaments de la Presid\\xc3\\xa8ncia i de Cultura impulsen la celebraci\\xc3\\xb3 de l\\xe2\\x80\\x99Any, acordada pel Govern en la sessi\\xc3\\xb3 del 29 d'agost del 2017. La directora general de Pol\\xc3\\xadtica Ling\\xc3\\xbc\\xc3\\xadstica, Ester Franquesa; el president de l'Institut d'Estudis Catalans, Joandom\\xc3\\xa8nec Ros, i el comissari de l'Any Fabra, Jordi Ginebra, han presentat avui les l\\xc3\\xadnies generals de la commemoraci\\xc3\\xb3 a la seu del Departament de Cultura.\""
      ]
     },
     "execution_count": 16,
     "metadata": {},
     "output_type": "execute_result"
    }
   ],
   "source": [
    "article_content = soup.find_all(\"div\", class_=\"FW_article-content\")[0].get_text().strip().split('\\n')[0]\n",
    "#### User input:\n",
    "#article_content = u\"El conseller d’Agricultura, Alimentació i Acció Rural, Joaquim Llena, acompanyat de la directora general d’Agricultura i Ramaderia, Rosa Cubel, i del director dels Serveis Territorials del DAR a Barcelona, Jaume Balagué, ha presidit, avui, l’acte de cloenda de l’Assemblea General Ordinària de la Federació Catalana d'Indústries de la Carn (FECIC), i el dinar posterior.\"\n",
    "article_content"
   ]
  },
  {
   "cell_type": "code",
   "execution_count": 17,
   "metadata": {},
   "outputs": [
    {
     "ename": "UnicodeDecodeError",
     "evalue": "'ascii' codec can't decode byte 0xe2 in position 36: ordinal not in range(128)",
     "output_type": "error",
     "traceback": [
      "\u001b[1;31m\u001b[0m",
      "\u001b[1;31mUnicodeDecodeError\u001b[0mTraceback (most recent call last)",
      "\u001b[1;32m<ipython-input-17-c0dbc1929422>\u001b[0m in \u001b[0;36m<module>\u001b[1;34m()\u001b[0m\n\u001b[0;32m     24\u001b[0m }\n\u001b[0;32m     25\u001b[0m \u001b[0mt\u001b[0m \u001b[1;33m=\u001b[0m \u001b[0mTemplate\u001b[0m\u001b[1;33m(\u001b[0m\u001b[0mtemplate\u001b[0m\u001b[1;33m)\u001b[0m\u001b[1;33m\u001b[0m\u001b[0m\n\u001b[1;32m---> 26\u001b[1;33m \u001b[0m_text\u001b[0m \u001b[1;33m=\u001b[0m \u001b[0mt\u001b[0m\u001b[1;33m.\u001b[0m\u001b[0mrender\u001b[0m\u001b[1;33m(\u001b[0m\u001b[1;33m**\u001b[0m\u001b[0mvars\u001b[0m\u001b[1;33m)\u001b[0m\u001b[1;33m\u001b[0m\u001b[0m\n\u001b[0m\u001b[0;32m     27\u001b[0m \u001b[0m_text\u001b[0m\u001b[1;33m\u001b[0m\u001b[0m\n",
      "\u001b[1;32md:\\ProgramData\\Anaconda2\\lib\\site-packages\\mako\\template.pyc\u001b[0m in \u001b[0;36mrender\u001b[1;34m(self, *args, **data)\u001b[0m\n\u001b[0;32m    460\u001b[0m \u001b[1;33m\u001b[0m\u001b[0m\n\u001b[0;32m    461\u001b[0m         \"\"\"\n\u001b[1;32m--> 462\u001b[1;33m         \u001b[1;32mreturn\u001b[0m \u001b[0mruntime\u001b[0m\u001b[1;33m.\u001b[0m\u001b[0m_render\u001b[0m\u001b[1;33m(\u001b[0m\u001b[0mself\u001b[0m\u001b[1;33m,\u001b[0m \u001b[0mself\u001b[0m\u001b[1;33m.\u001b[0m\u001b[0mcallable_\u001b[0m\u001b[1;33m,\u001b[0m \u001b[0margs\u001b[0m\u001b[1;33m,\u001b[0m \u001b[0mdata\u001b[0m\u001b[1;33m)\u001b[0m\u001b[1;33m\u001b[0m\u001b[0m\n\u001b[0m\u001b[0;32m    463\u001b[0m \u001b[1;33m\u001b[0m\u001b[0m\n\u001b[0;32m    464\u001b[0m     \u001b[1;32mdef\u001b[0m \u001b[0mrender_unicode\u001b[0m\u001b[1;33m(\u001b[0m\u001b[0mself\u001b[0m\u001b[1;33m,\u001b[0m \u001b[1;33m*\u001b[0m\u001b[0margs\u001b[0m\u001b[1;33m,\u001b[0m \u001b[1;33m**\u001b[0m\u001b[0mdata\u001b[0m\u001b[1;33m)\u001b[0m\u001b[1;33m:\u001b[0m\u001b[1;33m\u001b[0m\u001b[0m\n",
      "\u001b[1;32md:\\ProgramData\\Anaconda2\\lib\\site-packages\\mako\\runtime.pyc\u001b[0m in \u001b[0;36m_render\u001b[1;34m(template, callable_, args, data, as_unicode)\u001b[0m\n\u001b[0;32m    836\u001b[0m \u001b[1;33m\u001b[0m\u001b[0m\n\u001b[0;32m    837\u001b[0m     _render_context(template, callable_, context, *args,\n\u001b[1;32m--> 838\u001b[1;33m                     **_kwargs_for_callable(callable_, data))\n\u001b[0m\u001b[0;32m    839\u001b[0m     \u001b[1;32mreturn\u001b[0m \u001b[0mcontext\u001b[0m\u001b[1;33m.\u001b[0m\u001b[0m_pop_buffer\u001b[0m\u001b[1;33m(\u001b[0m\u001b[1;33m)\u001b[0m\u001b[1;33m.\u001b[0m\u001b[0mgetvalue\u001b[0m\u001b[1;33m(\u001b[0m\u001b[1;33m)\u001b[0m\u001b[1;33m\u001b[0m\u001b[0m\n\u001b[0;32m    840\u001b[0m \u001b[1;33m\u001b[0m\u001b[0m\n",
      "\u001b[1;32md:\\ProgramData\\Anaconda2\\lib\\site-packages\\mako\\runtime.pyc\u001b[0m in \u001b[0;36m_render_context\u001b[1;34m(tmpl, callable_, context, *args, **kwargs)\u001b[0m\n\u001b[0;32m    871\u001b[0m         \u001b[1;31m# if main render method, call from the base of the inheritance stack\u001b[0m\u001b[1;33m\u001b[0m\u001b[1;33m\u001b[0m\u001b[0m\n\u001b[0;32m    872\u001b[0m         \u001b[1;33m(\u001b[0m\u001b[0minherit\u001b[0m\u001b[1;33m,\u001b[0m \u001b[0mlclcontext\u001b[0m\u001b[1;33m)\u001b[0m \u001b[1;33m=\u001b[0m \u001b[0m_populate_self_namespace\u001b[0m\u001b[1;33m(\u001b[0m\u001b[0mcontext\u001b[0m\u001b[1;33m,\u001b[0m \u001b[0mtmpl\u001b[0m\u001b[1;33m)\u001b[0m\u001b[1;33m\u001b[0m\u001b[0m\n\u001b[1;32m--> 873\u001b[1;33m         \u001b[0m_exec_template\u001b[0m\u001b[1;33m(\u001b[0m\u001b[0minherit\u001b[0m\u001b[1;33m,\u001b[0m \u001b[0mlclcontext\u001b[0m\u001b[1;33m,\u001b[0m \u001b[0margs\u001b[0m\u001b[1;33m=\u001b[0m\u001b[0margs\u001b[0m\u001b[1;33m,\u001b[0m \u001b[0mkwargs\u001b[0m\u001b[1;33m=\u001b[0m\u001b[0mkwargs\u001b[0m\u001b[1;33m)\u001b[0m\u001b[1;33m\u001b[0m\u001b[0m\n\u001b[0m\u001b[0;32m    874\u001b[0m     \u001b[1;32melse\u001b[0m\u001b[1;33m:\u001b[0m\u001b[1;33m\u001b[0m\u001b[0m\n\u001b[0;32m    875\u001b[0m         \u001b[1;31m# otherwise, call the actual rendering method specified\u001b[0m\u001b[1;33m\u001b[0m\u001b[1;33m\u001b[0m\u001b[0m\n",
      "\u001b[1;32md:\\ProgramData\\Anaconda2\\lib\\site-packages\\mako\\runtime.pyc\u001b[0m in \u001b[0;36m_exec_template\u001b[1;34m(callable_, context, args, kwargs)\u001b[0m\n\u001b[0;32m    897\u001b[0m             \u001b[0m_render_error\u001b[0m\u001b[1;33m(\u001b[0m\u001b[0mtemplate\u001b[0m\u001b[1;33m,\u001b[0m \u001b[0mcontext\u001b[0m\u001b[1;33m,\u001b[0m \u001b[0me\u001b[0m\u001b[1;33m)\u001b[0m\u001b[1;33m\u001b[0m\u001b[0m\n\u001b[0;32m    898\u001b[0m     \u001b[1;32melse\u001b[0m\u001b[1;33m:\u001b[0m\u001b[1;33m\u001b[0m\u001b[0m\n\u001b[1;32m--> 899\u001b[1;33m         \u001b[0mcallable_\u001b[0m\u001b[1;33m(\u001b[0m\u001b[0mcontext\u001b[0m\u001b[1;33m,\u001b[0m \u001b[1;33m*\u001b[0m\u001b[0margs\u001b[0m\u001b[1;33m,\u001b[0m \u001b[1;33m**\u001b[0m\u001b[0mkwargs\u001b[0m\u001b[1;33m)\u001b[0m\u001b[1;33m\u001b[0m\u001b[0m\n\u001b[0m\u001b[0;32m    900\u001b[0m \u001b[1;33m\u001b[0m\u001b[0m\n\u001b[0;32m    901\u001b[0m \u001b[1;33m\u001b[0m\u001b[0m\n",
      "\u001b[1;32mmemory:0xe081a58L\u001b[0m in \u001b[0;36mrender_body\u001b[1;34m(context, **pageargs)\u001b[0m\n",
      "\u001b[1;31mUnicodeDecodeError\u001b[0m: 'ascii' codec can't decode byte 0xe2 in position 36: ordinal not in range(128)"
     ]
    }
   ],
   "source": [
    "template = u\"\"\"=={{int:filedesc}}==\n",
    "{{Information\n",
    "|description={{ca|1=${description}}}\n",
    "|date=${date}\n",
    "|source=[${url} Nota de Premsa - ${title}]\n",
    "|author=Generalitat de Catalunya\n",
    "|permission=\n",
    "|other versions=\n",
    "}}\n",
    "\n",
    "=={{int:license-header}}==\n",
    "{{LicenseReview}}\n",
    "{{attribution-gencat}}\n",
    "\n",
    "[[Category:Files uploaded by User:Discasto]]\n",
    "${cat_string}\"\"\"\n",
    "\n",
    "vars = {\n",
    "    \"url\": url,\n",
    "    \"description\": article_content,\n",
    "    \"date\": pub_date,\n",
    "    \"title\": title,\n",
    "    \"cat_string\": '\\n'.join(['[[Category:'+i+']]' for i in categories])\n",
    "}\n",
    "t = Template(template)\n",
    "_text = t.render(**vars)\n",
    "_text"
   ]
  },
  {
   "cell_type": "code",
   "execution_count": null,
   "metadata": {
    "collapsed": true
   },
   "outputs": [],
   "source": [
    "image_list = [{\"url\": image[\"href\"].strip(), \"name\": image[\"title\"].replace(':', ' -').replace('  ', ' ').strip()} for image in soup.find_all(\"a\", class_=\"external\") if '.jpg' in image['href'].lower()]\n",
    "image_list"
   ]
  },
  {
   "cell_type": "code",
   "execution_count": null,
   "metadata": {
    "collapsed": true
   },
   "outputs": [],
   "source": [
    "#### User input:\n",
    "excluded = []\n",
    "\n",
    "used_names = []\n",
    "\n",
    "for i, image in enumerate(image_list):\n",
    "    # If the image is excluded, skip\n",
    "    if i in excluded:\n",
    "        print (\"Image excluded. Skipping\")\n",
    "        continue\n",
    "        \n",
    "    # First, the image is downloaded and stored\n",
    "    image_url = quote(image[\"url\"].encode('utf-8'), ':/')\n",
    "    image_name = image[\"name\"].replace(':', ' -').replace('  ', ' ') + '.jpg'\n",
    "    image_path = os.path.join(images_directory, image_name)\n",
    "    try: \n",
    "        r = requests.get(image_url, headers=headers)\n",
    "        image = Image.open(BytesIO(r.content))\n",
    "        image.save(image_path)\n",
    "    except :\n",
    "        print ('Failed download. Skipping')\n",
    "        continue\n",
    "\n",
    "    # If the image is already in Commons, skip\n",
    "    if is_commons_file(get_hash(image_path)) :\n",
    "        print (\"Image already in commons. Skipping\")\n",
    "        os.remove(image_path)\n",
    "        continue\n",
    "\n",
    "    # If the image name is already in commons, find a new name\n",
    "    if pb.Page(commons_site, image_name, ns=6).exists():\n",
    "        print (\"Image name ({0}) already used in Commons\".format(image_name))\n",
    "        used_names.append(image_name)\n",
    "        \n",
    "    while True:\n",
    "        if image_name in used_names :\n",
    "            # Finding a new name\n",
    "            image_subject = '.'.join(image_name.split('.')[:-1])\n",
    "            image_extension = 'jpg'\n",
    "            p = re.compile('(.*) ([0-9]{2}\\.jpg)')\n",
    "            m = p.match(image_name)\n",
    "            if m is None:\n",
    "                image_name = image_subject + ' 01.' + image_extension\n",
    "            else :\n",
    "                counter = int(m.group(2)[:2]) + 1\n",
    "                image_name = '{} {:02d}.{}'.format(m.group(1), counter, image_extension)\n",
    "\n",
    "            if pb.Page(commons_site, image_name, ns=6).exists():\n",
    "                print (\"Image name ({0}) already used in Commons. Finding a new name\".format(image_name))\n",
    "                used_names.append(image_name)\n",
    "        else :\n",
    "            print (\"Preparing to upload image with name {0}\".format(image_name))\n",
    "            used_names.append(image_name)\n",
    "            break\n",
    "\n",
    "    # image upload\n",
    "    bot = UploadRobot([image_path],\n",
    "                      description = _text,\n",
    "                      useFilename = image_name,\n",
    "                      keepFilename = True,\n",
    "                      verifyDescription = False,\n",
    "                      ignoreWarning = True,\n",
    "                      targetSite = commons_site)\n",
    "    bot.run()\n",
    "\n",
    "    os.remove(image_path)"
   ]
  },
  {
   "cell_type": "code",
   "execution_count": null,
   "metadata": {
    "collapsed": true
   },
   "outputs": [],
   "source": []
  }
 ],
 "metadata": {
  "kernelspec": {
   "display_name": "Python 2",
   "language": "python",
   "name": "python2"
  },
  "language_info": {
   "codemirror_mode": {
    "name": "ipython",
    "version": 2
   },
   "file_extension": ".py",
   "mimetype": "text/x-python",
   "name": "python",
   "nbconvert_exporter": "python",
   "pygments_lexer": "ipython2",
   "version": "2.7.14"
  }
 },
 "nbformat": 4,
 "nbformat_minor": 2
}
