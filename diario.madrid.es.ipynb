{
 "cells": [
  {
   "cell_type": "code",
   "execution_count": 1,
   "metadata": {
    "collapsed": false
   },
   "outputs": [],
   "source": [
    "#!/usr/bin/python\n",
    "# -*- coding: latin-1 -*-\n",
    "\n",
    "import os, sys, inspect\n",
    "current_folder = os.path.realpath(os.path.abspath(os.path.split(inspect.getfile(inspect.currentframe()))[0]))\n",
    "folder_parts = current_folder.split(os.sep)\n",
    "pywikibot_folder = os.sep.join(folder_parts[0:-1])\n",
    "if current_folder not in sys.path:\n",
    "    sys.path.insert(0, current_folder)\n",
    "if pywikibot_folder not in sys.path:\n",
    "    sys.path.insert(0, pywikibot_folder)\n",
    "\n",
    "import pywikibot as pb\n",
    "from pywikibot.specialbots import UploadRobot\n",
    "\n",
    "from bs4 import BeautifulSoup\n",
    "import urllib\n",
    "from mako.template import Template"
   ]
  },
  {
   "cell_type": "code",
   "execution_count": 2,
   "metadata": {
    "collapsed": true
   },
   "outputs": [],
   "source": [
    "commons_site = pb.Site(\"commons\", \"commons\")"
   ]
  },
  {
   "cell_type": "code",
   "execution_count": 5,
   "metadata": {
    "collapsed": false
   },
   "outputs": [],
   "source": [
    "import urllib2\n",
    "\n",
    "url = 'https://diario.madrid.es/blog/notas-de-prensa/carmena-propone-un-debate-directo-entre-las-ciudades-y-la-onu/'\n",
    "user_agent = 'Mozilla/5.0 (Windows NT 6.1; WOW64; rv:40.0) Gecko/20100101 Firefox/40.1'\n",
    "headers = { 'User-Agent' : user_agent }\n",
    "excluded = []\n",
    "categories = ['Manuela Carmena in 2017', 'September 2017 in New York', 'United Nations Human Settlements Programme']\n",
    "cat_string = '\\n'.join(['[[Category:'+i+']]' for i in categories])\n",
    "\n",
    "req = urllib2.Request(url, headers=headers)\n",
    "response = urllib2.urlopen(req).read()\n",
    "soup = BeautifulSoup(response, 'html.parser')"
   ]
  },
  {
   "cell_type": "code",
   "execution_count": 6,
   "metadata": {
    "collapsed": false
   },
   "outputs": [],
   "source": [
    "import calendar\n",
    "title = soup.find_all(\"h1\", class_=\"post-title\")[0].get_text().strip().replace('  ', ' ')\n",
    "date = '-'.join(soup.find_all(\"div\", class_=\"post-date\")[0].get_text().strip().split('/')[::-1])\n",
    "#date = \"2017-07-07\"\n",
    "year = date.split('-')[0]\n",
    "month = calendar.month_name[int(date.split('-')[1])]\n",
    "body = soup.find_all(\"div\", class_=\"post-content\")\n",
    "p_description = body[0].find_all(\"p\")\n",
    "#print p_description\n",
    "for p in p_description :\n",
    "    if len(p.get_text()) > 10:\n",
    "        description = p.get_text()\n",
    "        break\n",
    "#description=u'Una delegación del Ayuntamiento de Madrid asiste a la manifestación de Barcelona en contra de los atentados terroristas, presidida por Manuela Carmena, y con representación de todos los grupos políticos municipales. Esta representación municipal ha estado compuesta por la portavoz del gobierno municipal, Rita Maestre: el delegado de Coordinación Territorial y Cooperación Público-Social y concejal del Grupo Municipal Ahora Madrid, Nacho Murgui; la concejala y delegada del portavoz del Grupo Municipal Partido Popular, Isabel Rosell; el concejal y delegado de la portavoz del Grupo Municipal Socialista, Ignacio de Benito y la portavoz del Grupo Municipal Ciudadanos-Partido de la Ciudadanía, Begoña Villacís.\\n\"Madrid como ciudad está aquí, con Barcelona, por solidaridad y por la necesidad de expresar la protesta que significan los actos de esta barbarie, para hacer posible que no se vuelvan a repetir\", ha dicho la alcaldesa a su llegada a la capital catalana.'"
   ]
  },
  {
   "cell_type": "code",
   "execution_count": 7,
   "metadata": {
    "collapsed": false
   },
   "outputs": [
    {
     "data": {
      "text/plain": [
       "u'=={{int:filedesc}}==\\n{{Information\\n|description={{es|1=La alcaldesa de Madrid, Manuela Carmena, ha participado hoy en un foro de la Asamblea General de la Organizaci\\xf3n de Naciones Unidas, para desarrollar la Nueva Agenda Urbana y el papel que tienen las autoridades municipales en este \\xe1mbito. Carmena ha reivindicado el papel protagonista de los gobiernos locales en la implementaci\\xf3n de la agenda internacional y ha propuesto la creaci\\xf3n de una agencia que permita el di\\xe1logo directo entre los gobiernos locales y la ONU. En este sentido, la alcaldesa ha se\\xf1alado que \\u201cno podemos solo hablar de planificaci\\xf3n si no hablamos de derechos humanos. No podemos soportar que haya ciudades y pa\\xedses en los que el n\\xfamero de personas privadas de derechos son millones\\u201d. Carmena adem\\xe1s ha subrayado que \\u201ces importante que se cree una verdadera cultura de la ciudad. Nos falta cultura de la ciudad\\u201d, ha insistido.}}\\n|date=2017-09-06\\n|source=[https://diario.madrid.es/blog/notas-de-prensa/carmena-propone-un-debate-directo-entre-las-ciudades-y-la-onu/ Diario de Madrid - Carmena propone un debate directo entre las ciudades y la ONU]\\n|author=[https://diario.madrid.es/ Diario de Madrid]\\n|permission=[https://diario.madrid.es/contenidos-libres/ License information for all contents in diario.madrid.es]\\n|other versions=\\n}}\\n\\n=={{int:license-header}}==\\n{{Diario de Madrid}}\\n\\n[[Category:Files uploaded by User:Discasto]]\\n[[Category:Images from Ayuntamiento de Madrid (to classify)]]\\n[[Category:September 2017 in Madrid]]\\n[[Category:Manuela Carmena in 2017]]\\n[[Category:September 2017 in New York]]\\n[[Category:United Nations Human Settlements Programme]]'"
      ]
     },
     "execution_count": 7,
     "metadata": {},
     "output_type": "execute_result"
    }
   ],
   "source": [
    "template = u\"\"\"=={{int:filedesc}}==\n",
    "{{Information\n",
    "|description={{es|1=${description}}}\n",
    "|date=${date}\n",
    "|source=[${url} Diario de Madrid - ${title}]\n",
    "|author=[https://diario.madrid.es/ Diario de Madrid]\n",
    "|permission=[https://diario.madrid.es/contenidos-libres/ License information for all contents in diario.madrid.es]\n",
    "|other versions=\n",
    "}}\n",
    "\n",
    "=={{int:license-header}}==\n",
    "{{Diario de Madrid}}\n",
    "\n",
    "[[Category:Files uploaded by User:Discasto]]\n",
    "[[Category:Images from Ayuntamiento de Madrid (to classify)]]\n",
    "[[Category:${month} ${year} in Madrid]]\n",
    "${cat_string}\"\"\"\n",
    "vars = {\n",
    "    \"url\": url,\n",
    "    \"description\": description,\n",
    "    \"year\": year,\n",
    "    \"month\": month,\n",
    "    \"date\": date,\n",
    "    \"title\": title,\n",
    "    \"cat_string\": cat_string\n",
    "}\n",
    "t = Template(template)\n",
    "_text = t.render(**vars)\n",
    "_text"
   ]
  },
  {
   "cell_type": "code",
   "execution_count": 8,
   "metadata": {
    "collapsed": false
   },
   "outputs": [
    {
     "name": "stdout",
     "output_type": "stream",
     "text": [
      "<div class=\"gallery-icon landscape\"> <a href=\"https://diario.madrid.es/wp-content/uploads/2017/09/Con-alcalde-de-NY.jpg\"><img alt=\"\" class=\"attachment-un_gallery size-un_gallery\" height=\"400\" src=\"https://diario.madrid.es/wp-content/uploads/2017/09/Con-alcalde-de-NY-750x400.jpg\" width=\"750\"/></a></div>\n",
      "D:\\\\tmp\\\\Con-alcalde-de-NY.jpg\n"
     ]
    },
    {
     "name": "stderr",
     "output_type": "stream",
     "text": [
      "WARNING: url as string is deprecated. Use an iterable instead.\n",
      "The suggested description is:\n",
      "=={{int:filedesc}}==\n",
      "{{Information\n",
      "|description={{es|1=La alcaldesa de Madrid, Manuela Carmena, ha participado hoy en un foro de la Asamblea General de la Organización de Naciones Unidas, para desarrollar la Nueva Agenda Urbana y el papel que tienen las autoridades municipales en este ámbito. Carmena ha reivindicado el papel protagonista de los gobiernos locales en la implementación de la agenda internacional y ha propuesto la creación de una agencia que permita el diálogo directo entre los gobiernos locales y la ONU. En este sentido, la alcaldesa ha señalado que “no podemos solo hablar de planificación si no hablamos de derechos humanos. No podemos soportar que haya ciudades y países en los que el número de personas privadas de derechos son millones”. Carmena además ha subrayado que “es importante que se cree una verdadera cultura de la ciudad. Nos falta cultura de la ciudad”, ha insistido.}}\n",
      "|date=2017-09-06\n",
      "|source=[https://diario.madrid.es/blog/notas-de-prensa/carmena-propone-un-debate-directo-entre-las-ciudades-y-la-onu/ Diario de Madrid - Carmena propone un debate directo entre las ciudades y la ONU]\n",
      "|author=[https://diario.madrid.es/ Diario de Madrid]\n",
      "|permission=[https://diario.madrid.es/contenidos-libres/ License information for all contents in diario.madrid.es]\n",
      "|other versions=\n",
      "}}\n",
      "\n",
      "=={{int:license-header}}==\n",
      "{{Diario de Madrid}}\n",
      "\n",
      "[[Category:Files uploaded by User:Discasto]]\n",
      "[[Category:Images from Ayuntamiento de Madrid (to classify)]]\n",
      "[[Category:September 2017 in Madrid]]\n",
      "[[Category:Manuela Carmena in 2017]]\n",
      "[[Category:September 2017 in New York]]\n",
      "[[Category:United Nations Human Settlements Programme]]\n",
      "Uploading file to commons:commons...\n",
      "Sleeping for 7.5 seconds, 2017-09-06 22:29:41\n",
      "Upload successful.\n",
      "Upload of Carmena propone un debate directo entre las ciudades y la ONU (01).jpg successful.\n",
      "\n",
      "1 pages read\n",
      "1 pages written\n",
      "Script terminated successfully.\n",
      "WARNING: url as string is deprecated. Use an iterable instead.\n"
     ]
    },
    {
     "name": "stdout",
     "output_type": "stream",
     "text": [
      "<div class=\"gallery-icon landscape\"> <a href=\"https://diario.madrid.es/wp-content/uploads/2017/09/Con-el-alcalde-de-NY-pie.jpg\"><img alt=\"\" class=\"attachment-un_gallery size-un_gallery\" height=\"400\" src=\"https://diario.madrid.es/wp-content/uploads/2017/09/Con-el-alcalde-de-NY-pie-750x400.jpg\" width=\"750\"/></a></div>\n",
      "D:\\\\tmp\\\\Con-el-alcalde-de-NY-pie.jpg\n"
     ]
    },
    {
     "name": "stderr",
     "output_type": "stream",
     "text": [
      "The suggested description is:\n",
      "=={{int:filedesc}}==\n",
      "{{Information\n",
      "|description={{es|1=La alcaldesa de Madrid, Manuela Carmena, ha participado hoy en un foro de la Asamblea General de la Organización de Naciones Unidas, para desarrollar la Nueva Agenda Urbana y el papel que tienen las autoridades municipales en este ámbito. Carmena ha reivindicado el papel protagonista de los gobiernos locales en la implementación de la agenda internacional y ha propuesto la creación de una agencia que permita el diálogo directo entre los gobiernos locales y la ONU. En este sentido, la alcaldesa ha señalado que “no podemos solo hablar de planificación si no hablamos de derechos humanos. No podemos soportar que haya ciudades y países en los que el número de personas privadas de derechos son millones”. Carmena además ha subrayado que “es importante que se cree una verdadera cultura de la ciudad. Nos falta cultura de la ciudad”, ha insistido.}}\n",
      "|date=2017-09-06\n",
      "|source=[https://diario.madrid.es/blog/notas-de-prensa/carmena-propone-un-debate-directo-entre-las-ciudades-y-la-onu/ Diario de Madrid - Carmena propone un debate directo entre las ciudades y la ONU]\n",
      "|author=[https://diario.madrid.es/ Diario de Madrid]\n",
      "|permission=[https://diario.madrid.es/contenidos-libres/ License information for all contents in diario.madrid.es]\n",
      "|other versions=\n",
      "}}\n",
      "\n",
      "=={{int:license-header}}==\n",
      "{{Diario de Madrid}}\n",
      "\n",
      "[[Category:Files uploaded by User:Discasto]]\n",
      "[[Category:Images from Ayuntamiento de Madrid (to classify)]]\n",
      "[[Category:September 2017 in Madrid]]\n",
      "[[Category:Manuela Carmena in 2017]]\n",
      "[[Category:September 2017 in New York]]\n",
      "[[Category:United Nations Human Settlements Programme]]\n",
      "Uploading file to commons:commons...\n",
      "Sleeping for 5.8 seconds, 2017-09-06 22:29:52\n",
      "Upload successful.\n",
      "Upload of Carmena propone un debate directo entre las ciudades y la ONU (02).jpg successful.\n",
      "\n",
      "1 pages read\n",
      "1 pages written\n",
      "Script terminated successfully.\n",
      "WARNING: url as string is deprecated. Use an iterable instead.\n"
     ]
    },
    {
     "name": "stdout",
     "output_type": "stream",
     "text": [
      "<div class=\"gallery-icon landscape\"> <a href=\"https://diario.madrid.es/wp-content/uploads/2017/09/IMG_0026-1339x1000.jpg\"><img alt=\"\" class=\"attachment-un_gallery size-un_gallery\" height=\"400\" src=\"https://diario.madrid.es/wp-content/uploads/2017/09/IMG_0026-750x400.jpg\" width=\"750\"/></a></div>\n",
      "D:\\\\tmp\\\\IMG_0026-1339x1000.jpg\n"
     ]
    },
    {
     "name": "stderr",
     "output_type": "stream",
     "text": [
      "The suggested description is:\n",
      "=={{int:filedesc}}==\n",
      "{{Information\n",
      "|description={{es|1=La alcaldesa de Madrid, Manuela Carmena, ha participado hoy en un foro de la Asamblea General de la Organización de Naciones Unidas, para desarrollar la Nueva Agenda Urbana y el papel que tienen las autoridades municipales en este ámbito. Carmena ha reivindicado el papel protagonista de los gobiernos locales en la implementación de la agenda internacional y ha propuesto la creación de una agencia que permita el diálogo directo entre los gobiernos locales y la ONU. En este sentido, la alcaldesa ha señalado que “no podemos solo hablar de planificación si no hablamos de derechos humanos. No podemos soportar que haya ciudades y países en los que el número de personas privadas de derechos son millones”. Carmena además ha subrayado que “es importante que se cree una verdadera cultura de la ciudad. Nos falta cultura de la ciudad”, ha insistido.}}\n",
      "|date=2017-09-06\n",
      "|source=[https://diario.madrid.es/blog/notas-de-prensa/carmena-propone-un-debate-directo-entre-las-ciudades-y-la-onu/ Diario de Madrid - Carmena propone un debate directo entre las ciudades y la ONU]\n",
      "|author=[https://diario.madrid.es/ Diario de Madrid]\n",
      "|permission=[https://diario.madrid.es/contenidos-libres/ License information for all contents in diario.madrid.es]\n",
      "|other versions=\n",
      "}}\n",
      "\n",
      "=={{int:license-header}}==\n",
      "{{Diario de Madrid}}\n",
      "\n",
      "[[Category:Files uploaded by User:Discasto]]\n",
      "[[Category:Images from Ayuntamiento de Madrid (to classify)]]\n",
      "[[Category:September 2017 in Madrid]]\n",
      "[[Category:Manuela Carmena in 2017]]\n",
      "[[Category:September 2017 in New York]]\n",
      "[[Category:United Nations Human Settlements Programme]]\n",
      "Uploading file to commons:commons...\n",
      "Sleeping for 6.9 seconds, 2017-09-06 22:30:01\n",
      "Upload successful.\n",
      "Upload of Carmena propone un debate directo entre las ciudades y la ONU (03).jpg successful.\n",
      "\n",
      "1 pages read\n",
      "1 pages written\n",
      "Script terminated successfully.\n"
     ]
    },
    {
     "name": "stdout",
     "output_type": "stream",
     "text": [
      "<div class=\"gallery-icon landscape\"> <a href=\"https://diario.madrid.es/wp-content/uploads/2017/09/IMG_0031-1339x1000.jpg\"><img alt=\"\" class=\"attachment-un_gallery size-un_gallery\" height=\"400\" src=\"https://diario.madrid.es/wp-content/uploads/2017/09/IMG_0031-750x400.jpg\" width=\"750\"/></a></div>\n",
      "D:\\\\tmp\\\\IMG_0031-1339x1000.jpg\n"
     ]
    },
    {
     "name": "stderr",
     "output_type": "stream",
     "text": [
      "WARNING: url as string is deprecated. Use an iterable instead.\n",
      "The suggested description is:\n",
      "=={{int:filedesc}}==\n",
      "{{Information\n",
      "|description={{es|1=La alcaldesa de Madrid, Manuela Carmena, ha participado hoy en un foro de la Asamblea General de la Organización de Naciones Unidas, para desarrollar la Nueva Agenda Urbana y el papel que tienen las autoridades municipales en este ámbito. Carmena ha reivindicado el papel protagonista de los gobiernos locales en la implementación de la agenda internacional y ha propuesto la creación de una agencia que permita el diálogo directo entre los gobiernos locales y la ONU. En este sentido, la alcaldesa ha señalado que “no podemos solo hablar de planificación si no hablamos de derechos humanos. No podemos soportar que haya ciudades y países en los que el número de personas privadas de derechos son millones”. Carmena además ha subrayado que “es importante que se cree una verdadera cultura de la ciudad. Nos falta cultura de la ciudad”, ha insistido.}}\n",
      "|date=2017-09-06\n",
      "|source=[https://diario.madrid.es/blog/notas-de-prensa/carmena-propone-un-debate-directo-entre-las-ciudades-y-la-onu/ Diario de Madrid - Carmena propone un debate directo entre las ciudades y la ONU]\n",
      "|author=[https://diario.madrid.es/ Diario de Madrid]\n",
      "|permission=[https://diario.madrid.es/contenidos-libres/ License information for all contents in diario.madrid.es]\n",
      "|other versions=\n",
      "}}\n",
      "\n",
      "=={{int:license-header}}==\n",
      "{{Diario de Madrid}}\n",
      "\n",
      "[[Category:Files uploaded by User:Discasto]]\n",
      "[[Category:Images from Ayuntamiento de Madrid (to classify)]]\n",
      "[[Category:September 2017 in Madrid]]\n",
      "[[Category:Manuela Carmena in 2017]]\n",
      "[[Category:September 2017 in New York]]\n",
      "[[Category:United Nations Human Settlements Programme]]\n",
      "Uploading file to commons:commons...\n",
      "Sleeping for 5.9 seconds, 2017-09-06 22:30:12\n",
      "Upload successful.\n",
      "Upload of Carmena propone un debate directo entre las ciudades y la ONU (04).jpg successful.\n",
      "\n",
      "1 pages read\n",
      "1 pages written\n",
      "Script terminated successfully.\n",
      "WARNING: url as string is deprecated. Use an iterable instead.\n"
     ]
    },
    {
     "name": "stdout",
     "output_type": "stream",
     "text": [
      "<div class=\"gallery-icon landscape\"> <a href=\"https://diario.madrid.es/wp-content/uploads/2017/09/IMG_0029-1339x1000.jpg\"><img alt=\"\" class=\"attachment-un_gallery size-un_gallery\" height=\"400\" src=\"https://diario.madrid.es/wp-content/uploads/2017/09/IMG_0029-750x400.jpg\" width=\"750\"/></a></div>\n",
      "D:\\\\tmp\\\\IMG_0029-1339x1000.jpg\n"
     ]
    },
    {
     "name": "stderr",
     "output_type": "stream",
     "text": [
      "The suggested description is:\n",
      "=={{int:filedesc}}==\n",
      "{{Information\n",
      "|description={{es|1=La alcaldesa de Madrid, Manuela Carmena, ha participado hoy en un foro de la Asamblea General de la Organización de Naciones Unidas, para desarrollar la Nueva Agenda Urbana y el papel que tienen las autoridades municipales en este ámbito. Carmena ha reivindicado el papel protagonista de los gobiernos locales en la implementación de la agenda internacional y ha propuesto la creación de una agencia que permita el diálogo directo entre los gobiernos locales y la ONU. En este sentido, la alcaldesa ha señalado que “no podemos solo hablar de planificación si no hablamos de derechos humanos. No podemos soportar que haya ciudades y países en los que el número de personas privadas de derechos son millones”. Carmena además ha subrayado que “es importante que se cree una verdadera cultura de la ciudad. Nos falta cultura de la ciudad”, ha insistido.}}\n",
      "|date=2017-09-06\n",
      "|source=[https://diario.madrid.es/blog/notas-de-prensa/carmena-propone-un-debate-directo-entre-las-ciudades-y-la-onu/ Diario de Madrid - Carmena propone un debate directo entre las ciudades y la ONU]\n",
      "|author=[https://diario.madrid.es/ Diario de Madrid]\n",
      "|permission=[https://diario.madrid.es/contenidos-libres/ License information for all contents in diario.madrid.es]\n",
      "|other versions=\n",
      "}}\n",
      "\n",
      "=={{int:license-header}}==\n",
      "{{Diario de Madrid}}\n",
      "\n",
      "[[Category:Files uploaded by User:Discasto]]\n",
      "[[Category:Images from Ayuntamiento de Madrid (to classify)]]\n",
      "[[Category:September 2017 in Madrid]]\n",
      "[[Category:Manuela Carmena in 2017]]\n",
      "[[Category:September 2017 in New York]]\n",
      "[[Category:United Nations Human Settlements Programme]]\n",
      "Uploading file to commons:commons...\n",
      "Sleeping for 6.7 seconds, 2017-09-06 22:30:21\n",
      "Upload successful.\n",
      "Upload of Carmena propone un debate directo entre las ciudades y la ONU (05).jpg successful.\n",
      "\n",
      "1 pages read\n",
      "1 pages written\n",
      "Script terminated successfully.\n"
     ]
    }
   ],
   "source": [
    "counter = 0\n",
    "for i, image in enumerate(soup.find_all(\"div\", class_=\"gallery-icon\")) :\n",
    "    print image\n",
    "    if i in excluded:\n",
    "        continue\n",
    "    href = urllib2.quote(image.a[\"href\"].encode('utf-8'), ':/')\n",
    "    image_name = u'%s (%02d).jpg' % (title, counter+1)\n",
    "    image_name = image_name.replace(':', ' -').replace('  ', ' ')\n",
    "    img_request = urllib2.Request(href, headers=headers)\n",
    "    img_data = urllib2.urlopen(img_request).read()\n",
    "    image_path = r'D:\\\\tmp\\\\' + href.split('/')[-1]\n",
    "    print image_path\n",
    "    f = open(image_path, 'wb')\n",
    "    f.write(img_data)\n",
    "    f.close()\n",
    "    bot = UploadRobot(image_path,\n",
    "                  description = _text,\n",
    "                  useFilename=image_name,\n",
    "                  keepFilename=True,\n",
    "                  verifyDescription=False,\n",
    "                  ignoreWarning=True,\n",
    "                  targetSite = commons_site)\n",
    "    #print image_name\n",
    "    bot.run()\n",
    "    os.remove(image_path)\n",
    "    counter += 1"
   ]
  },
  {
   "cell_type": "code",
   "execution_count": null,
   "metadata": {
    "collapsed": true
   },
   "outputs": [],
   "source": []
  }
 ],
 "metadata": {
  "kernelspec": {
   "display_name": "Python 2",
   "language": "python",
   "name": "python2"
  },
  "language_info": {
   "codemirror_mode": {
    "name": "ipython",
    "version": 2
   },
   "file_extension": ".py",
   "mimetype": "text/x-python",
   "name": "python",
   "nbconvert_exporter": "python",
   "pygments_lexer": "ipython2",
   "version": "2.7.12"
  }
 },
 "nbformat": 4,
 "nbformat_minor": 2
}
