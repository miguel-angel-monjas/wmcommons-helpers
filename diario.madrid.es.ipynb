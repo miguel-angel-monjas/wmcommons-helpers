{
 "cells": [
  {
   "cell_type": "code",
   "execution_count": 1,
   "metadata": {},
   "outputs": [],
   "source": [
    "#!/usr/bin/python\n",
    "# -*- coding: latin-1 -*-\n",
    "\n",
    "import inspect, os, sys\n",
    "\n",
    "try :\n",
    "    import pywikibot as pb\n",
    "    from pywikibot.specialbots import UploadRobot\n",
    "\n",
    "except :\n",
    "    current_folder = os.path.realpath(os.path.abspath(os.path.split(inspect.getfile(inspect.currentframe()))[0]))\n",
    "    folder_parts = current_folder.split(os.sep)\n",
    "    pywikibot_folder = os.sep.join(folder_parts[:-1])\n",
    "\n",
    "    if current_folder not in sys.path:\n",
    "        sys.path.insert(0, current_folder)\n",
    "    if pywikibot_folder not in sys.path:\n",
    "        sys.path.insert(0, pywikibot_folder)\n",
    "\n",
    "    import pywikibot as pb\n",
    "    from pywikibot.specialbots import UploadRobot\n",
    "\n",
    "from bs4 import BeautifulSoup\n",
    "from mako.template import Template\n",
    "import requests\n",
    "from requests.compat import quote\n",
    "from PIL import Image\n",
    "\n",
    "import calendar\n",
    "from io import BytesIO\n",
    "import re\n",
    "\n",
    "from modules.wmtools import is_commons_file, get_hash"
   ]
  },
  {
   "cell_type": "code",
   "execution_count": 2,
   "metadata": {},
   "outputs": [],
   "source": [
    "commons_site = pb.Site(\"commons\", \"commons\")"
   ]
  },
  {
   "cell_type": "code",
   "execution_count": 3,
   "metadata": {},
   "outputs": [],
   "source": [
    "cwd = os.getcwd()\n",
    "\n",
    "images_directory = os.path.join(cwd, 'images')\n",
    "if not os.path.exists(images_directory):\n",
    "    os.makedirs(images_directory)"
   ]
  },
  {
   "cell_type": "code",
   "execution_count": 15,
   "metadata": {},
   "outputs": [],
   "source": [
    "#### User input:\n",
    "url = 'https://diario.madrid.es/blog/notas-de-prensa/villa-de-vallecas-dispone-ya-de-un-nuevo-rocodromo/'\n",
    "\n",
    "user_agent = 'Mozilla/5.0 (Windows NT 6.1; WOW64; rv:40.0) Gecko/20100101 Firefox/40.1'\n",
    "headers = {'User-Agent' : user_agent}\n",
    "\n",
    "#### User input:\n",
    "categories = ['Climbing walls in Madrid', \n",
    "              'Sports venues in Villa de Vallecas district', \n",
    "              'Ensanche de Vallecas']"
   ]
  },
  {
   "cell_type": "code",
   "execution_count": 16,
   "metadata": {},
   "outputs": [
    {
     "data": {
      "text/plain": [
       "['Climbing walls in Madrid',\n",
       " 'Sports venues in Villa de Vallecas district',\n",
       " 'Ensanche de Vallecas',\n",
       " 'Files uploaded by User:Discasto']"
      ]
     },
     "execution_count": 16,
     "metadata": {},
     "output_type": "execute_result"
    }
   ],
   "source": [
    "#### User input:\n",
    "upload_categories = ['Files uploaded by User:Discasto']\n",
    "categories = categories + upload_categories\n",
    "categories"
   ]
  },
  {
   "cell_type": "code",
   "execution_count": 17,
   "metadata": {},
   "outputs": [],
   "source": [
    "r = requests.get(url, headers=headers)\n",
    "soup = BeautifulSoup(r.text, 'html.parser')"
   ]
  },
  {
   "cell_type": "code",
   "execution_count": 18,
   "metadata": {},
   "outputs": [
    {
     "data": {
      "text/plain": [
       "'Villa de Vallecas dispone ya de un nuevo rocódromo'"
      ]
     },
     "execution_count": 18,
     "metadata": {},
     "output_type": "execute_result"
    }
   ],
   "source": [
    "title = soup.find_all(\"h1\", class_=\"post-title\")[0].get_text().strip().replace('  ', ' ')\n",
    "title"
   ]
  },
  {
   "cell_type": "code",
   "execution_count": 19,
   "metadata": {},
   "outputs": [
    {
     "data": {
      "text/plain": [
       "'2018-01-23'"
      ]
     },
     "execution_count": 19,
     "metadata": {},
     "output_type": "execute_result"
    }
   ],
   "source": [
    "date = '-'.join(soup.find_all(\"div\", class_=\"post-date\")[0].get_text().strip().split('/')[::-1])\n",
    "#date = \"\"\n",
    "year = date.split('-')[0]\n",
    "month = calendar.month_name[int(date.split('-')[1])]\n",
    "date"
   ]
  },
  {
   "cell_type": "code",
   "execution_count": 20,
   "metadata": {},
   "outputs": [
    {
     "data": {
      "text/plain": [
       "'El concejal de los distritos de Puente de Vallecas y Villa de Vallecas, Francisco Pérez Ramos, ha inaugurado esta mañana un rocódromo que se sitúa en la avenida de La Gavia, en el Ensanche de Vallecas.'"
      ]
     },
     "execution_count": 20,
     "metadata": {},
     "output_type": "execute_result"
    }
   ],
   "source": [
    "body = soup.find_all(\"div\", class_=\"post-content\")\n",
    "p_description = body[0].find_all(\"p\")\n",
    "for p in p_description :\n",
    "    if len(p.get_text()) > 10:\n",
    "        description = p.get_text()\n",
    "        break\n",
    "#description=u'Una delegación del Ayuntamiento de Madrid asiste a la manifestación de Barcelona en contra de los atentados terroristas, presidida por Manuela Carmena, y con representación de todos los grupos políticos municipales. Esta representación municipal ha estado compuesta por la portavoz del gobierno municipal, Rita Maestre: el delegado de Coordinación Territorial y Cooperación Público-Social y concejal del Grupo Municipal Ahora Madrid, Nacho Murgui; la concejala y delegada del portavoz del Grupo Municipal Partido Popular, Isabel Rosell; el concejal y delegado de la portavoz del Grupo Municipal Socialista, Ignacio de Benito y la portavoz del Grupo Municipal Ciudadanos-Partido de la Ciudadanía, Begoña Villacís.\\n\"Madrid como ciudad está aquí, con Barcelona, por solidaridad y por la necesidad de expresar la protesta que significan los actos de esta barbarie, para hacer posible que no se vuelvan a repetir\", ha dicho la alcaldesa a su llegada a la capital catalana.'\n",
    "description"
   ]
  },
  {
   "cell_type": "code",
   "execution_count": 21,
   "metadata": {},
   "outputs": [
    {
     "data": {
      "text/plain": [
       "'=={{int:filedesc}}==\\n{{Information\\n|description={{es|1=El concejal de los distritos de Puente de Vallecas y Villa de Vallecas, Francisco Pérez Ramos, ha inaugurado esta mañana un rocódromo que se sitúa en la avenida de La Gavia, en el Ensanche de Vallecas.}}\\n|date=2018-01-23\\n|source=[https://diario.madrid.es/blog/notas-de-prensa/villa-de-vallecas-dispone-ya-de-un-nuevo-rocodromo/ Diario de Madrid - Villa de Vallecas dispone ya de un nuevo rocódromo]\\n|author=[https://diario.madrid.es/ Diario de Madrid]\\n|permission=[https://diario.madrid.es/contenidos-libres/ License information for all contents in diario.madrid.es]\\n|other versions=\\n}}\\n\\n=={{int:license-header}}==\\n{{Diario de Madrid}}\\n\\n[[Category:Images from Ayuntamiento de Madrid (to classify)]]\\n[[Category:January 2018 in Madrid]]\\n[[Category:Climbing walls in Madrid]]\\n[[Category:Sports venues in Villa de Vallecas district]]\\n[[Category:Ensanche de Vallecas]]\\n[[Category:Files uploaded by User:Discasto]]'"
      ]
     },
     "execution_count": 21,
     "metadata": {},
     "output_type": "execute_result"
    }
   ],
   "source": [
    "template = u\"\"\"=={{int:filedesc}}==\n",
    "{{Information\n",
    "|description={{es|1=${description}}}\n",
    "|date=${date}\n",
    "|source=[${url} Diario de Madrid - ${title}]\n",
    "|author=[https://diario.madrid.es/ Diario de Madrid]\n",
    "|permission=[https://diario.madrid.es/contenidos-libres/ License information for all contents in diario.madrid.es]\n",
    "|other versions=\n",
    "}}\n",
    "\n",
    "=={{int:license-header}}==\n",
    "{{Diario de Madrid}}\n",
    "\n",
    "[[Category:Images from Ayuntamiento de Madrid (to classify)]]\n",
    "[[Category:${month} ${year} in Madrid]]\n",
    "${cat_string}\"\"\"\n",
    "\n",
    "vars = {\n",
    "    \"url\": url,\n",
    "    \"description\": description,\n",
    "    \"year\": year,\n",
    "    \"month\": month,\n",
    "    \"date\": date,\n",
    "    \"title\": title,\n",
    "    \"cat_string\": '\\n'.join(['[[Category:'+i+']]' for i in categories])\n",
    "}\n",
    "t = Template(template)\n",
    "_text = t.render(**vars)\n",
    "_text"
   ]
  },
  {
   "cell_type": "code",
   "execution_count": 25,
   "metadata": {},
   "outputs": [
    {
     "data": {
      "text/plain": [
       "['https://diario.madrid.es/wp-content/uploads/2018/01/Inauguración-Rocódromo-2-562x1000.jpg',\n",
       " 'https://diario.madrid.es/wp-content/uploads/2018/01/Inauguración-Rocódromo-4-1500x842.jpg',\n",
       " 'https://diario.madrid.es/wp-content/uploads/2018/01/Inauguración-Rocódromo-1-562x1000.jpg']"
      ]
     },
     "execution_count": 25,
     "metadata": {},
     "output_type": "execute_result"
    }
   ],
   "source": [
    "images = [image.a[\"href\"] for image in soup.find_all(\"div\", class_=\"gallery-icon\")]\n",
    "images"
   ]
  },
  {
   "cell_type": "code",
   "execution_count": 23,
   "metadata": {},
   "outputs": [
    {
     "name": "stdout",
     "output_type": "stream",
     "text": [
      "Preparing to upload image with name Villa de Vallecas dispone ya de un nuevo rocódromo 01.jpg\n"
     ]
    },
    {
     "name": "stderr",
     "output_type": "stream",
     "text": [
      "The suggested description is:\n",
      "=={{int:filedesc}}==\n",
      "{{Information\n",
      "|description={{es|1=El concejal de los distritos de Puente de Vallecas y Villa de Vallecas, Francisco Pérez Ramos, ha inaugurado esta mañana un rocódromo que se sitúa en la avenida de La Gavia, en el Ensanche de Vallecas.}}\n",
      "|date=2018-01-23\n",
      "|source=[https://diario.madrid.es/blog/notas-de-prensa/villa-de-vallecas-dispone-ya-de-un-nuevo-rocodromo/ Diario de Madrid - Villa de Vallecas dispone ya de un nuevo rocódromo]\n",
      "|author=[https://diario.madrid.es/ Diario de Madrid]\n",
      "|permission=[https://diario.madrid.es/contenidos-libres/ License information for all contents in diario.madrid.es]\n",
      "|other versions=\n",
      "}}\n",
      "\n",
      "=={{int:license-header}}==\n",
      "{{Diario de Madrid}}\n",
      "\n",
      "[[Category:Images from Ayuntamiento de Madrid (to classify)]]\n",
      "[[Category:January 2018 in Madrid]]\n",
      "[[Category:Climbing walls in Madrid]]\n",
      "[[Category:Sports venues in Villa de Vallecas district]]\n",
      "[[Category:Ensanche de Vallecas]]\n",
      "[[Category:Files uploaded by User:Discasto]]\n",
      "Uploading file to commons:commons...\n",
      "Upload successful.\n",
      "Upload of Villa de Vallecas dispone ya de un nuevo rocódromo 01.jpg successful.\n",
      "\n",
      "1 pages read\n",
      "1 pages written\n",
      "Script terminated successfully.\n"
     ]
    },
    {
     "name": "stdout",
     "output_type": "stream",
     "text": [
      "Preparing to upload image with name Villa de Vallecas dispone ya de un nuevo rocódromo 02.jpg\n"
     ]
    },
    {
     "name": "stderr",
     "output_type": "stream",
     "text": [
      "The suggested description is:\n",
      "=={{int:filedesc}}==\n",
      "{{Information\n",
      "|description={{es|1=El concejal de los distritos de Puente de Vallecas y Villa de Vallecas, Francisco Pérez Ramos, ha inaugurado esta mañana un rocódromo que se sitúa en la avenida de La Gavia, en el Ensanche de Vallecas.}}\n",
      "|date=2018-01-23\n",
      "|source=[https://diario.madrid.es/blog/notas-de-prensa/villa-de-vallecas-dispone-ya-de-un-nuevo-rocodromo/ Diario de Madrid - Villa de Vallecas dispone ya de un nuevo rocódromo]\n",
      "|author=[https://diario.madrid.es/ Diario de Madrid]\n",
      "|permission=[https://diario.madrid.es/contenidos-libres/ License information for all contents in diario.madrid.es]\n",
      "|other versions=\n",
      "}}\n",
      "\n",
      "=={{int:license-header}}==\n",
      "{{Diario de Madrid}}\n",
      "\n",
      "[[Category:Images from Ayuntamiento de Madrid (to classify)]]\n",
      "[[Category:January 2018 in Madrid]]\n",
      "[[Category:Climbing walls in Madrid]]\n",
      "[[Category:Sports venues in Villa de Vallecas district]]\n",
      "[[Category:Ensanche de Vallecas]]\n",
      "[[Category:Files uploaded by User:Discasto]]\n",
      "Uploading file to commons:commons...\n",
      "Sleeping for 6.6 seconds, 2018-01-23 17:51:14\n",
      "Upload successful.\n",
      "Upload of Villa de Vallecas dispone ya de un nuevo rocódromo 02.jpg successful.\n",
      "\n",
      "1 pages read\n",
      "1 pages written\n",
      "Script terminated successfully.\n"
     ]
    },
    {
     "name": "stdout",
     "output_type": "stream",
     "text": [
      "Preparing to upload image with name Villa de Vallecas dispone ya de un nuevo rocódromo 03.jpg\n"
     ]
    },
    {
     "name": "stderr",
     "output_type": "stream",
     "text": [
      "The suggested description is:\n",
      "=={{int:filedesc}}==\n",
      "{{Information\n",
      "|description={{es|1=El concejal de los distritos de Puente de Vallecas y Villa de Vallecas, Francisco Pérez Ramos, ha inaugurado esta mañana un rocódromo que se sitúa en la avenida de La Gavia, en el Ensanche de Vallecas.}}\n",
      "|date=2018-01-23\n",
      "|source=[https://diario.madrid.es/blog/notas-de-prensa/villa-de-vallecas-dispone-ya-de-un-nuevo-rocodromo/ Diario de Madrid - Villa de Vallecas dispone ya de un nuevo rocódromo]\n",
      "|author=[https://diario.madrid.es/ Diario de Madrid]\n",
      "|permission=[https://diario.madrid.es/contenidos-libres/ License information for all contents in diario.madrid.es]\n",
      "|other versions=\n",
      "}}\n",
      "\n",
      "=={{int:license-header}}==\n",
      "{{Diario de Madrid}}\n",
      "\n",
      "[[Category:Images from Ayuntamiento de Madrid (to classify)]]\n",
      "[[Category:January 2018 in Madrid]]\n",
      "[[Category:Climbing walls in Madrid]]\n",
      "[[Category:Sports venues in Villa de Vallecas district]]\n",
      "[[Category:Ensanche de Vallecas]]\n",
      "[[Category:Files uploaded by User:Discasto]]\n",
      "Uploading file to commons:commons...\n",
      "Sleeping for 7.0 seconds, 2018-01-23 17:51:23\n",
      "Upload successful.\n",
      "Upload of Villa de Vallecas dispone ya de un nuevo rocódromo 03.jpg successful.\n",
      "\n",
      "1 pages read\n",
      "1 pages written\n",
      "Script terminated successfully.\n"
     ]
    }
   ],
   "source": [
    "#### User input:\n",
    "excluded = []\n",
    "\n",
    "used_names = []\n",
    "counter = 0\n",
    "\n",
    "for image in images :\n",
    "    # If the image is excluded, skip\n",
    "    if i in excluded:\n",
    "        print (\"Image excluded. Skipping\")\n",
    "        continue\n",
    "        \n",
    "    # First, the image is downloaded and stored\n",
    "    image_url = quote(image.encode('utf-8'), ':/')\n",
    "    image_name = '{} {:02d}.jpg'.format(title.replace(':', ' -').replace('  ', ' '), counter+1)\n",
    "    image_path = os.path.join(images_directory, image_name)\n",
    "    try: \n",
    "        r = requests.get(image_url, headers=headers)\n",
    "        image = Image.open(BytesIO(r.content))\n",
    "        image.save(image_path)\n",
    "    except :\n",
    "        print ('Failed download. Skipping')\n",
    "        continue\n",
    "\n",
    "    # If the image is already in Commons, skip\n",
    "    if is_commons_file(get_hash(image_path)) :\n",
    "        print (\"Image already in commons. Skipping\")\n",
    "        os.remove(image_path)\n",
    "        continue\n",
    "\n",
    "    # If the image name is already in commons, find a new name\n",
    "    if pb.Page(commons_site, image_name, ns=6).exists():\n",
    "        print (\"Image name ({0}) already used in Commons\".format(image_name))\n",
    "        used_names.append(image_name)\n",
    "        \n",
    "    while True:\n",
    "        if image_name in used_names :\n",
    "            # Finding a new name\n",
    "            image_subject = '.'.join(image_name.split('.')[:-1])\n",
    "            image_extension = 'jpg'\n",
    "            p = re.compile('(.*) ([0-9]{2}\\.jpg)')\n",
    "            m = p.match(image_name)\n",
    "            if m is None:\n",
    "                image_name = image_subject + ' 01.' + image_extension\n",
    "            else :\n",
    "                counter = int(m.group(2)[:2]) + 1\n",
    "                image_name = '{} {:02d}.{}'.format(m.group(1), counter, image_extension)\n",
    "\n",
    "            if pb.Page(commons_site, image_name, ns=6).exists():\n",
    "                print (\"Image name ({0}) already used in Commons. Finding a new name\".format(image_name))\n",
    "                used_names.append(image_name)\n",
    "        else :\n",
    "            print (\"Preparing to upload image with name {0}\".format(image_name))\n",
    "            used_names.append(image_name)\n",
    "            break\n",
    "\n",
    "    # image upload\n",
    "    bot = UploadRobot([image_path],\n",
    "                      description = _text,\n",
    "                      useFilename = image_name,\n",
    "                      keepFilename = True,\n",
    "                      verifyDescription = False,\n",
    "                      ignoreWarning = True,\n",
    "                      targetSite = commons_site)\n",
    "    bot.run()\n",
    "\n",
    "    os.remove(image_path)\n",
    "    counter += 1"
   ]
  },
  {
   "cell_type": "code",
   "execution_count": null,
   "metadata": {},
   "outputs": [],
   "source": []
  }
 ],
 "metadata": {
  "kernelspec": {
   "display_name": "Python 3",
   "language": "python",
   "name": "python3"
  },
  "language_info": {
   "codemirror_mode": {
    "name": "ipython",
    "version": 3
   },
   "file_extension": ".py",
   "mimetype": "text/x-python",
   "name": "python",
   "nbconvert_exporter": "python",
   "pygments_lexer": "ipython3",
   "version": "3.6.3"
  }
 },
 "nbformat": 4,
 "nbformat_minor": 2
}
