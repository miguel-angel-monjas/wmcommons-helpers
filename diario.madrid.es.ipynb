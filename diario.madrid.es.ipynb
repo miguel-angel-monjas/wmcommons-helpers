{
 "cells": [
  {
   "cell_type": "code",
   "execution_count": null,
   "metadata": {},
   "outputs": [],
   "source": [
    "#!/usr/bin/python\n",
    "# -*- coding: latin-1 -*-\n",
    "\n",
    "import inspect, os, sys\n",
    "\n",
    "try :\n",
    "    import pywikibot as pb\n",
    "    from pywikibot.specialbots import UploadRobot\n",
    "\n",
    "except :\n",
    "    current_folder = os.path.realpath(os.path.abspath(os.path.split(inspect.getfile(inspect.currentframe()))[0]))\n",
    "    folder_parts = current_folder.split(os.sep)\n",
    "    pywikibot_folder = os.sep.join(folder_parts[:-1])\n",
    "\n",
    "    if current_folder not in sys.path:\n",
    "        sys.path.insert(0, current_folder)\n",
    "    if pywikibot_folder not in sys.path:\n",
    "        sys.path.insert(0, pywikibot_folder)\n",
    "\n",
    "    import pywikibot as pb\n",
    "    from pywikibot.specialbots import UploadRobot\n",
    "\n",
    "from bs4 import BeautifulSoup\n",
    "from mako.template import Template\n",
    "import requests\n",
    "from requests.compat import quote\n",
    "from PIL import Image\n",
    "\n",
    "import calendar\n",
    "from io import BytesIO\n",
    "import re\n",
    "\n",
    "from modules.wmtools import is_commons_file, get_hash"
   ]
  },
  {
   "cell_type": "code",
   "execution_count": null,
   "metadata": {},
   "outputs": [],
   "source": [
    "commons_site = pb.Site(\"commons\", \"commons\")"
   ]
  },
  {
   "cell_type": "code",
<<<<<<< HEAD
   "execution_count": 16,
   "metadata": {},
   "outputs": [],
   "source": [
    "def get_sizes(uri, headers):\n",
    "    # get file size *and* image size (None if not known)\n",
    "    image_url = quote(image.encode('utf-8'), ':/')\n",
    "    try: \n",
    "        r = requests.get(image_url, headers=headers)\n",
    "        file = Image.open(BytesIO(r.content))\n",
    "    except :\n",
    "        return 0, None\n",
    "\n",
    "    size = r.headers[\"content-length\"]\n",
    "    if size:\n",
    "        size = int(size)\n",
    "\n",
    "    p = ImageFile.Parser()\n",
    "    while True:\n",
    "        data = file.read(1024)\n",
    "        if not data:\n",
    "            break\n",
    "        p.feed(data)\n",
    "        if p.image:\n",
    "            return size, p.image.size\n",
    "            break\n",
    "    file.close()\n",
    "    return size, None"
   ]
  },
  {
   "cell_type": "code",
   "execution_count": 3,
=======
   "execution_count": null,
>>>>>>> d82581fdf718253fd070a56a9c5a6c160448c9d0
   "metadata": {},
   "outputs": [],
   "source": [
    "cwd = os.getcwd()\n",
    "\n",
    "images_directory = os.path.join(cwd, 'images')\n",
    "if not os.path.exists(images_directory):\n",
    "    os.makedirs(images_directory)"
   ]
  },
  {
   "cell_type": "code",
<<<<<<< HEAD
   "execution_count": 4,
=======
   "execution_count": null,
>>>>>>> d82581fdf718253fd070a56a9c5a6c160448c9d0
   "metadata": {},
   "outputs": [],
   "source": [
    "#### User input:\n",
    "url = 'https://diario.madrid.es/blog/notas-de-prensa/carlos-granados-director-de-la-nueva-oficina-municipal-contra-el-fraude-y-la-corrupcion/'\n",
    "\n",
    "user_agent = 'Mozilla/5.0 (Windows NT 6.1; WOW64; rv:40.0) Gecko/20100101 Firefox/40.1'\n",
    "headers = {'User-Agent' : user_agent}\n",
    "\n",
    "#### User input:\n",
    "categories = ['Carlos Granados', 'January 2018 in Madrid']"
   ]
  },
  {
   "cell_type": "code",
<<<<<<< HEAD
   "execution_count": 5,
   "metadata": {},
   "outputs": [
    {
     "data": {
      "text/plain": [
       "['Carlos Granados',\n",
       " 'January 2018 in Madrid',\n",
       " 'Files uploaded by User:Discasto']"
      ]
     },
     "execution_count": 5,
     "metadata": {},
     "output_type": "execute_result"
    }
   ],
=======
   "execution_count": null,
   "metadata": {},
   "outputs": [],
>>>>>>> d82581fdf718253fd070a56a9c5a6c160448c9d0
   "source": [
    "#### User input:\n",
    "upload_categories = ['Files uploaded by User:Discasto']\n",
    "categories = categories + upload_categories\n",
    "categories"
   ]
  },
  {
   "cell_type": "code",
<<<<<<< HEAD
   "execution_count": 6,
=======
   "execution_count": null,
>>>>>>> d82581fdf718253fd070a56a9c5a6c160448c9d0
   "metadata": {},
   "outputs": [],
   "source": [
    "r = requests.get(url, headers=headers)\n",
    "soup = BeautifulSoup(r.text, 'html.parser')"
   ]
  },
  {
   "cell_type": "code",
<<<<<<< HEAD
   "execution_count": 7,
   "metadata": {},
   "outputs": [
    {
     "data": {
      "text/plain": [
       "'Carlos Granados, director de la nueva Oficina Municipal contra el Fraude y la Corrupción'"
      ]
     },
     "execution_count": 7,
     "metadata": {},
     "output_type": "execute_result"
    }
   ],
=======
   "execution_count": null,
   "metadata": {},
   "outputs": [],
>>>>>>> d82581fdf718253fd070a56a9c5a6c160448c9d0
   "source": [
    "title = soup.find_all(\"h1\", class_=\"post-title\")[0].get_text().strip().replace('  ', ' ')\n",
    "title"
   ]
  },
  {
   "cell_type": "code",
<<<<<<< HEAD
   "execution_count": 8,
   "metadata": {},
   "outputs": [
    {
     "data": {
      "text/plain": [
       "'2018-01-31'"
      ]
     },
     "execution_count": 8,
     "metadata": {},
     "output_type": "execute_result"
    }
   ],
=======
   "execution_count": null,
   "metadata": {},
   "outputs": [],
>>>>>>> d82581fdf718253fd070a56a9c5a6c160448c9d0
   "source": [
    "date = '-'.join(soup.find_all(\"div\", class_=\"post-date\")[0].get_text().strip().split('/')[::-1])\n",
    "#date = \"\"\n",
    "year = date.split('-')[0]\n",
    "month = calendar.month_name[int(date.split('-')[1])]\n",
    "date"
   ]
  },
  {
   "cell_type": "code",
<<<<<<< HEAD
   "execution_count": 9,
   "metadata": {},
   "outputs": [
    {
     "data": {
      "text/plain": [
       "'El Pleno del Ayuntamiento de Madrid en la sesión de hoy, 31 de enero, ha aprobado el nombramiento, con los votos a favor de Ahora Madrid y del grupo municipal socialista, del magistrado jubilado Carlos Granados como director de la Oficina Municipal contra el Fraude y la Corrupción. '"
      ]
     },
     "execution_count": 9,
     "metadata": {},
     "output_type": "execute_result"
    }
   ],
=======
   "execution_count": null,
   "metadata": {},
   "outputs": [],
>>>>>>> d82581fdf718253fd070a56a9c5a6c160448c9d0
   "source": [
    "body = soup.find_all(\"div\", class_=\"post-content\")\n",
    "p_description = body[0].find_all(\"p\")\n",
    "for p in p_description :\n",
    "    if len(p.get_text()) > 10:\n",
    "        description = p.get_text()\n",
    "        break\n",
    "#description='El actor Juan Diego será galardonado con el Premio Puente de Toledo. Asimismo la actriz Pilar Bardem recibirá una mención especial por su trayectoria y su apoyo al cine de nuestro país.<br/>También se celebrará el 28º Festival de Cortos, uno de los certámenes mejor dotados a nivel nacional  y  “La Noche Más Corta” , una iniciativa que permite a los jóvenes creadores compartir su trabajo'\n",
    "description"
   ]
  },
  {
   "cell_type": "code",
<<<<<<< HEAD
   "execution_count": 10,
   "metadata": {},
   "outputs": [
    {
     "data": {
      "text/plain": [
       "'=={{int:filedesc}}==\\n{{Information\\n|description={{es|1=El Pleno del Ayuntamiento de Madrid en la sesión de hoy, 31 de enero, ha aprobado el nombramiento, con los votos a favor de Ahora Madrid y del grupo municipal socialista, del magistrado jubilado Carlos Granados como director de la Oficina Municipal contra el Fraude y la Corrupción. }}\\n|date=2018-01-31\\n|source=[https://diario.madrid.es/blog/notas-de-prensa/carlos-granados-director-de-la-nueva-oficina-municipal-contra-el-fraude-y-la-corrupcion/ Diario de Madrid - Carlos Granados, director de la nueva Oficina Municipal contra el Fraude y la Corrupción]\\n|author=[https://diario.madrid.es/ Diario de Madrid]\\n|permission=[https://diario.madrid.es/contenidos-libres/ License information for all contents in diario.madrid.es]\\n|other versions=\\n}}\\n\\n=={{int:license-header}}==\\n{{Diario de Madrid}}\\n\\n[[Category:Images from Ayuntamiento de Madrid (to classify)]]\\n[[Category:January 2018 in Madrid]]\\n[[Category:Carlos Granados]]\\n[[Category:January 2018 in Madrid]]\\n[[Category:Files uploaded by User:Discasto]]'"
      ]
     },
     "execution_count": 10,
     "metadata": {},
     "output_type": "execute_result"
    }
   ],
=======
   "execution_count": null,
   "metadata": {},
   "outputs": [],
>>>>>>> d82581fdf718253fd070a56a9c5a6c160448c9d0
   "source": [
    "template = u\"\"\"=={{int:filedesc}}==\n",
    "{{Information\n",
    "|description={{es|1=${description}}}\n",
    "|date=${date}\n",
    "|source=[${url} Diario de Madrid - ${title}]\n",
    "|author=[https://diario.madrid.es/ Diario de Madrid]\n",
    "|permission=[https://diario.madrid.es/contenidos-libres/ License information for all contents in diario.madrid.es]\n",
    "|other versions=\n",
    "}}\n",
    "\n",
    "=={{int:license-header}}==\n",
    "{{Diario de Madrid}}\n",
    "\n",
    "[[Category:Images from Ayuntamiento de Madrid (to classify)]]\n",
    "[[Category:${month} ${year} in Madrid]]\n",
    "${cat_string}\"\"\"\n",
    "\n",
    "vars = {\n",
    "    \"url\": url,\n",
    "    \"description\": description,\n",
    "    \"year\": year,\n",
    "    \"month\": month,\n",
    "    \"date\": date,\n",
    "    \"title\": title,\n",
    "    \"cat_string\": '\\n'.join(['[[Category:'+i+']]' for i in categories])\n",
    "}\n",
    "t = Template(template)\n",
    "_text = t.render(**vars)\n",
    "_text"
   ]
  },
  {
   "cell_type": "code",
<<<<<<< HEAD
   "execution_count": 13,
   "metadata": {},
   "outputs": [
    {
     "data": {
      "text/plain": [
       "[]"
      ]
     },
     "execution_count": 13,
     "metadata": {},
     "output_type": "execute_result"
    }
   ],
=======
   "execution_count": null,
   "metadata": {},
   "outputs": [],
>>>>>>> d82581fdf718253fd070a56a9c5a6c160448c9d0
   "source": [
    "gallery_images = [image.a[\"href\"] for image in soup.find_all(\"div\", class_=\"gallery-icon\")]\n",
    "gallery_images"
   ]
  },
  {
   "cell_type": "code",
<<<<<<< HEAD
   "execution_count": 18,
   "metadata": {},
   "outputs": [
    {
     "name": "stdout",
     "output_type": "stream",
     "text": [
      "https://diario.madrid.es/wp-content/uploads/2018/01/20180131110200_057A9603-01.jpeg\n",
      "https://diario.madrid.es/wp-content/uploads/2018/01/20180131110840_057A9659-01.jpeg\n"
     ]
    }
   ],
   "source": [
    "image_chunks = soup.find_all(attrs={'class': re.compile(r\"wp-image-\\d*\")})\n",
    "embedded_images = []\n",
    "for image in image_chunks :\n",
    "    try:\n",
    "        links = {int(x.strip().split(' ')[1][:-1]): x.strip().split(' ')[0] for x in image.get('srcset').split(',')}\n",
    "        sortedlist = [(k, links[k]) for k in sorted(links)]\n",
    "        link = sortedlist[-1][1]\n",
    "    except :\n",
    "        link = image.get('src')\n",
    "\n",
    "    if image.parent.get('href') == None :\n",
    "        image_url = sortedlist[-1][1]\n",
    "        image_url = quote(image_url.encode('utf-8'), ':/')\n",
    "    elif get_sizes(image.parent.get('href'), headers)[0] > get_sizes(link, headers)[0] :\n",
    "        image_url = image.parent.get('href')\n",
    "        image_url = quote(image_url.encode('utf-8'), ':/')\n",
    "    else :\n",
    "        image_url = sortedlist[-1][1]\n",
    "        image_url = quote(image_url.encode('utf-8'), ':/')\n",
    "    print (image_url)\n",
    "    embedded_images.append(image_url)"
   ]
  },
  {
   "cell_type": "code",
   "execution_count": 19,
   "metadata": {},
   "outputs": [
    {
     "data": {
      "text/plain": [
       "['https://diario.madrid.es/wp-content/uploads/2018/01/20180131110200_057A9603-01.jpeg',\n",
       " 'https://diario.madrid.es/wp-content/uploads/2018/01/20180131110840_057A9659-01.jpeg']"
      ]
     },
     "execution_count": 19,
     "metadata": {},
     "output_type": "execute_result"
    }
   ],
   "source": [
    "images = gallery_images + embedded_images\n",
    "images"
   ]
  },
  {
   "cell_type": "code",
   "execution_count": 20,
   "metadata": {},
   "outputs": [
    {
     "name": "stdout",
     "output_type": "stream",
     "text": [
      "Preparing to upload image with name Carlos Granados, director de la nueva Oficina Municipal contra el Fraude y la Corrupción 01.jpg\n"
     ]
    },
    {
     "name": "stderr",
     "output_type": "stream",
     "text": [
      "The suggested description is:\n",
      "=={{int:filedesc}}==\n",
      "{{Information\n",
      "|description={{es|1=El Pleno del Ayuntamiento de Madrid en la sesión de hoy, 31 de enero, ha aprobado el nombramiento, con los votos a favor de Ahora Madrid y del grupo municipal socialista, del magistrado jubilado Carlos Granados como director de la Oficina Municipal contra el Fraude y la Corrupción. }}\n",
      "|date=2018-01-31\n",
      "|source=[https://diario.madrid.es/blog/notas-de-prensa/carlos-granados-director-de-la-nueva-oficina-municipal-contra-el-fraude-y-la-corrupcion/ Diario de Madrid - Carlos Granados, director de la nueva Oficina Municipal contra el Fraude y la Corrupción]\n",
      "|author=[https://diario.madrid.es/ Diario de Madrid]\n",
      "|permission=[https://diario.madrid.es/contenidos-libres/ License information for all contents in diario.madrid.es]\n",
      "|other versions=\n",
      "}}\n",
      "\n",
      "=={{int:license-header}}==\n",
      "{{Diario de Madrid}}\n",
      "\n",
      "[[Category:Images from Ayuntamiento de Madrid (to classify)]]\n",
      "[[Category:January 2018 in Madrid]]\n",
      "[[Category:Carlos Granados]]\n",
      "[[Category:January 2018 in Madrid]]\n",
      "[[Category:Files uploaded by User:Discasto]]\n",
      "Uploading file to commons:commons...\n",
      "Sleeping for 29.3 seconds, 2018-01-31 22:07:46\n",
      "Upload successful.\n",
      "Upload of Carlos Granados, director de la nueva Oficina Municipal contra el Fraude y la Corrupción 01.jpg successful.\n",
      "\n",
      "1 pages read\n",
      "1 pages written\n",
      "Script terminated successfully.\n"
     ]
    },
    {
     "name": "stdout",
     "output_type": "stream",
     "text": [
      "Preparing to upload image with name Carlos Granados, director de la nueva Oficina Municipal contra el Fraude y la Corrupción 02.jpg\n"
     ]
    },
    {
     "name": "stderr",
     "output_type": "stream",
     "text": [
      "The suggested description is:\n",
      "=={{int:filedesc}}==\n",
      "{{Information\n",
      "|description={{es|1=El Pleno del Ayuntamiento de Madrid en la sesión de hoy, 31 de enero, ha aprobado el nombramiento, con los votos a favor de Ahora Madrid y del grupo municipal socialista, del magistrado jubilado Carlos Granados como director de la Oficina Municipal contra el Fraude y la Corrupción. }}\n",
      "|date=2018-01-31\n",
      "|source=[https://diario.madrid.es/blog/notas-de-prensa/carlos-granados-director-de-la-nueva-oficina-municipal-contra-el-fraude-y-la-corrupcion/ Diario de Madrid - Carlos Granados, director de la nueva Oficina Municipal contra el Fraude y la Corrupción]\n",
      "|author=[https://diario.madrid.es/ Diario de Madrid]\n",
      "|permission=[https://diario.madrid.es/contenidos-libres/ License information for all contents in diario.madrid.es]\n",
      "|other versions=\n",
      "}}\n",
      "\n",
      "=={{int:license-header}}==\n",
      "{{Diario de Madrid}}\n",
      "\n",
      "[[Category:Images from Ayuntamiento de Madrid (to classify)]]\n",
      "[[Category:January 2018 in Madrid]]\n",
      "[[Category:Carlos Granados]]\n",
      "[[Category:January 2018 in Madrid]]\n",
      "[[Category:Files uploaded by User:Discasto]]\n",
      "Uploading file to commons:commons...\n",
      "Sleeping for 26.1 seconds, 2018-01-31 22:08:19\n",
      "Upload successful.\n",
      "Upload of Carlos Granados, director de la nueva Oficina Municipal contra el Fraude y la Corrupción 02.jpg successful.\n",
      "\n",
      "1 pages read\n",
      "1 pages written\n",
      "Script terminated successfully.\n"
     ]
    }
   ],
=======
   "execution_count": null,
   "metadata": {},
   "outputs": [],
>>>>>>> d82581fdf718253fd070a56a9c5a6c160448c9d0
   "source": [
    "#### User input:\n",
    "excluded = []\n",
    "\n",
    "used_names = []\n",
    "counter = 0\n",
    "\n",
    "for i, image in enumerate(images) :\n",
    "    # If the image is excluded, skip\n",
    "    if i in excluded:\n",
    "        print (\"Image excluded. Skipping\")\n",
    "        continue\n",
    "        \n",
    "    # First, the image is downloaded and stored\n",
    "    image_url = quote(image.encode('utf-8'), ':/')\n",
    "    image_name = '{} {:02d}.jpg'.format(title.replace(':', ' -').replace('  ', ' '), counter+1)\n",
    "    image_path = os.path.join(images_directory, image_name)\n",
    "    try: \n",
    "        r = requests.get(image_url, headers=headers)\n",
    "        image = Image.open(BytesIO(r.content))\n",
    "        image.save(image_path)\n",
    "    except :\n",
    "        print ('Failed download. Skipping')\n",
    "        continue\n",
    "\n",
    "    # If the image is already in Commons, skip\n",
    "    if is_commons_file(get_hash(image_path)) :\n",
    "        print (\"Image already in commons. Skipping\")\n",
    "        os.remove(image_path)\n",
    "        continue\n",
    "\n",
    "    # If the image name is already in commons, find a new name\n",
    "    if pb.Page(commons_site, image_name, ns=6).exists():\n",
    "        print (\"Image name ({0}) already used in Commons\".format(image_name))\n",
    "        used_names.append(image_name)\n",
    "        \n",
    "    while True:\n",
    "        if image_name in used_names :\n",
    "            # Finding a new name\n",
    "            image_subject = '.'.join(image_name.split('.')[:-1])\n",
    "            image_extension = 'jpg'\n",
    "            p = re.compile('(.*) ([0-9]{2}\\.jpg)')\n",
    "            m = p.match(image_name)\n",
    "            if m is None:\n",
    "                image_name = image_subject + ' 01.' + image_extension\n",
    "            else :\n",
    "                counter = int(m.group(2)[:2]) + 1\n",
    "                image_name = '{} {:02d}.{}'.format(m.group(1), counter, image_extension)\n",
    "\n",
    "            if pb.Page(commons_site, image_name, ns=6).exists():\n",
    "                print (\"Image name ({0}) already used in Commons. Finding a new name\".format(image_name))\n",
    "                used_names.append(image_name)\n",
    "        else :\n",
    "            print (\"Preparing to upload image with name {0}\".format(image_name))\n",
    "            used_names.append(image_name)\n",
    "            break\n",
    "\n",
    "    # image upload\n",
    "    bot = UploadRobot([image_path],\n",
    "                      description = _text,\n",
    "                      useFilename = image_name,\n",
    "                      keepFilename = True,\n",
    "                      verifyDescription = False,\n",
    "                      ignoreWarning = True,\n",
    "                      targetSite = commons_site)\n",
    "    bot.run()\n",
    "\n",
    "    os.remove(image_path)\n",
    "    counter += 1"
   ]
  },
  {
   "cell_type": "code",
   "execution_count": null,
   "metadata": {},
   "outputs": [],
   "source": []
  }
 ],
 "metadata": {
  "kernelspec": {
   "display_name": "Python 3",
   "language": "python",
   "name": "python3"
  },
  "language_info": {
   "codemirror_mode": {
    "name": "ipython",
    "version": 3
   },
   "file_extension": ".py",
   "mimetype": "text/x-python",
   "name": "python",
   "nbconvert_exporter": "python",
   "pygments_lexer": "ipython3",
   "version": "3.6.4"
  }
 },
 "nbformat": 4,
 "nbformat_minor": 2
}
