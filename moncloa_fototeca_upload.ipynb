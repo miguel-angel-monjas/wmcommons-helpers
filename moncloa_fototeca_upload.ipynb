{
 "cells": [
  {
   "cell_type": "code",
   "execution_count": 25,
   "metadata": {},
   "outputs": [],
   "source": [
    "#!/usr/bin/python\n",
    "# -*- coding: latin-1 -*-\n",
    "\n",
    "import inspect, os, sys\n",
    "\n",
    "try :\n",
    "    import pywikibot as pb\n",
    "    from pywikibot.specialbots import UploadRobot\n",
    "\n",
    "except :\n",
    "    current_folder = os.path.realpath(os.path.abspath(os.path.split(inspect.getfile(inspect.currentframe()))[0]))\n",
    "    folder_parts = current_folder.split(os.sep)\n",
    "    pywikibot_folder = os.sep.join(folder_parts[:-1])\n",
    "\n",
    "    if current_folder not in sys.path:\n",
    "        sys.path.insert(0, current_folder)\n",
    "    if pywikibot_folder not in sys.path:\n",
    "        sys.path.insert(0, pywikibot_folder)\n",
    "\n",
    "    import pywikibot as pb\n",
    "    from pywikibot.specialbots import UploadRobot\n",
    "\n",
    "from http_request_randomizer.requests.proxy.requestProxy import RequestProxy\n",
    "\n",
    "from bs4 import BeautifulSoup\n",
    "from mako.template import Template\n",
    "import requests\n",
    "from requests.compat import quote\n",
    "\n",
    "import dateparser as dp\n",
    "import datetime\n",
    "\n",
    "from PIL import Image\n",
    "from io import BytesIO\n",
    "import re\n",
    "\n",
    "commons_site = pb.Site(\"commons\", \"commons\")"
   ]
  },
  {
   "cell_type": "code",
   "execution_count": 26,
   "metadata": {},
   "outputs": [],
   "source": [
    "from modules.wmtools import is_commons_file, get_hash"
   ]
  },
  {
   "cell_type": "code",
   "execution_count": 27,
   "metadata": {},
   "outputs": [],
   "source": [
    "cwd = os.getcwd()\n",
    "\n",
    "images_directory = os.path.join(cwd, 'images')\n",
    "if not os.path.exists(images_directory):\n",
    "    os.makedirs(images_directory)"
   ]
  },
  {
   "cell_type": "code",
   "execution_count": 28,
   "metadata": {},
   "outputs": [
    {
     "name": "stderr",
     "output_type": "stream",
     "text": [
      "2018-01-20 21:15:44,597 root   DEBUG    === Initialized Proxy Parsers ===\n",
      "2018-01-20 21:15:44,598 root   DEBUG    \t FreeProxy Parser of 'http://free-proxy-list.net' with required bandwidth: '150' KBs\n",
      "2018-01-20 21:15:44,600 root   DEBUG    \t ProxyForEU Parser of 'http://proxyfor.eu/geo.php' with required bandwidth: '1.0' KBs\n",
      "2018-01-20 21:15:44,601 root   DEBUG    \t RebroWeebly Parser of 'http://rebro.weebly.com' with required bandwidth: '150' KBs\n",
      "2018-01-20 21:15:44,602 root   DEBUG    \t SemairProxy Parser of 'https://premproxy.com/list/' with required bandwidth: '150' KBs\n",
      "2018-01-20 21:15:44,605 root   DEBUG    =================================\n",
      "2018-01-20 21:15:45,187 http_request_randomizer.requests.parsers.FreeProxyParser DEBUG    Proxy Invalid: <zip object at 0x7ff84bfed048>\n",
      "2018-01-20 21:15:45,539 http_request_randomizer.requests.parsers.ProxyForEuParser DEBUG    Proxy with low bandwidth: 0.178\n",
      "2018-01-20 21:15:45,541 http_request_randomizer.requests.parsers.ProxyForEuParser DEBUG    Proxy Invalid: <zip object at 0x7ff84b7651c8>\n",
      "2018-01-20 21:15:45,542 http_request_randomizer.requests.parsers.ProxyForEuParser DEBUG    Proxy with low bandwidth: 0.435\n",
      "2018-01-20 21:15:45,543 http_request_randomizer.requests.parsers.ProxyForEuParser DEBUG    Proxy Invalid: <zip object at 0x7ff84b7656c8>\n",
      "2018-01-20 21:15:45,544 http_request_randomizer.requests.parsers.ProxyForEuParser DEBUG    Proxy with low bandwidth: 0.361\n",
      "2018-01-20 21:15:45,545 http_request_randomizer.requests.parsers.ProxyForEuParser DEBUG    Proxy Invalid: <zip object at 0x7ff84b765a48>\n",
      "2018-01-20 21:15:45,757 http_request_randomizer.requests.parsers.RebroWeeblyParser WARNING  Proxy Provider url failed: http://rebro.weebly.com\n",
      "2018-01-20 21:15:46,200 http_request_randomizer.requests.parsers.SamairProxyParser DEBUG    Pages: {'', '11.htm', '14.htm', '08.htm', '12.htm', '05.htm', '13.htm', '06.htm', '07.htm', '04.htm', '02.htm', '10.htm', '03.htm', '09.htm'}\n"
     ]
    }
   ],
   "source": [
    "req_proxy = RequestProxy()"
   ]
  },
  {
   "cell_type": "code",
   "execution_count": 29,
   "metadata": {},
   "outputs": [],
   "source": [
    "urls = ['http://www.lamoncloa.gob.es/multimedia/fototeca/Paginas/Imagen.aspx?img=085c50bb1c']\n",
    "categories = ['José María Aznar in 2001',\n",
    "              'Historians from Spain']"
   ]
  },
  {
   "cell_type": "code",
   "execution_count": 30,
   "metadata": {},
   "outputs": [],
   "source": [
    "template = u\"\"\"=={{int:filedesc}}==\n",
    "{{Information\n",
    "|description={{es|1=${description}}}\n",
    "|date=${date}\n",
    "|source=[${url} Fototeca: ${title}]\n",
    "|author=Ministerio de la Presidencia. Gobierno de España (${author})\n",
    "|permission=\n",
    "|other versions=\n",
    "}}\n",
    "\n",
    "=={{int:license-header}}==\n",
    "{{LicenseReview}}\n",
    "{{attribution-La Moncloa}}\n",
    "\n",
    "[[Category:Files uploaded by User:Discasto]]\n",
    "${cat_string}\"\"\""
   ]
  },
  {
   "cell_type": "code",
   "execution_count": 31,
   "metadata": {},
   "outputs": [
    {
     "name": "stderr",
     "output_type": "stream",
     "text": [
      "2018-01-20 21:15:55,648 root   DEBUG    Using headers: {'Connection': 'close', 'User-Agent': 'Mozilla/5.0 (Windows; U; Windows NT 6.1; es-ES; rv:1.9.1) Gecko/20090624 Firefox/3.5 (.NET CLR 3.5.30729'}\n",
      "2018-01-20 21:15:55,650 root   DEBUG    Using proxy: 61.247.186.137:8080 | Samair\n",
      "2018-01-20 21:16:02,696 root   DEBUG    Using headers: {'Connection': 'close', 'User-Agent': 'Mozilla/5.0 (Windows; U; Windows NT 6.1; de; rv:1.9.1.1) Gecko/20090715 Firefox/3.5.'}\n",
      "2018-01-20 21:16:02,697 root   DEBUG    Using proxy: 113.53.61.80:8080 | FreeProxy\n"
     ]
    },
    {
     "name": "stdout",
     "output_type": "stream",
     "text": [
      "RR Status 200\n",
      "Trying download\n"
     ]
    },
    {
     "name": "stderr",
     "output_type": "stream",
     "text": [
      "2018-01-20 21:16:32,726 root   DEBUG    Proxy unreachable - Removed Straggling proxy: 113.53.61.80:8080 | FreeProxy PL Size = 1492\n",
      "2018-01-20 21:16:32,731 root   DEBUG    Using headers: {'Connection': 'close', 'User-Agent': 'Mozilla/5.0 (iPad; U; CPU iPhone OS 3_2 like Mac OS X; en-us) AppleWebKit/531.21.10 (KHTML, like Gecko) Version/4.0.4 Mobile/7B31'}\n",
      "2018-01-20 21:16:32,733 root   DEBUG    Using proxy: 180.183.98.186:8080 | FreeProxy\n"
     ]
    },
    {
     "name": "stdout",
     "output_type": "stream",
     "text": [
      "Still trying download\n",
      "Trying download\n"
     ]
    },
    {
     "name": "stderr",
     "output_type": "stream",
     "text": [
      "2018-01-20 21:16:53,326 pywiki VERBOSE  Found 1 commons:commons processes running, including this one.\n",
      "2018-01-20 21:16:53,331 requests_oauthlib.oauth1_auth DEBUG    Signing request <PreparedRequest [POST]> using client <Client client_key=0a73e346a40b07262b6e36bdba01cba4, client_secret=****, resource_owner_key=5ca4fafa5dd85bb0ecf516d96ad6bf07, resource_owner_secret=****, signature_method=HMAC-SHA1, signature_type=AUTH_HEADER, callback_uri=None, rsa_key=None, verifier=None, realm=None, encoding=utf-8, decoding=utf-8, nonce=None, timestamp=None>\n",
      "2018-01-20 21:16:53,333 requests_oauthlib.oauth1_auth DEBUG    Including body in call to sign: True\n",
      "2018-01-20 21:16:53,336 oauthlib.oauth1.rfc5849 DEBUG    Collected params: [('oauth_nonce', '16917610888969901381516483013'), ('oauth_timestamp', '1516483013'), ('oauth_version', '1.0'), ('oauth_signature_method', 'HMAC-SHA1'), ('oauth_consumer_key', '0a73e346a40b07262b6e36bdba01cba4'), ('oauth_token', '5ca4fafa5dd85bb0ecf516d96ad6bf07'), ('gaifrom', '!'), ('prop', 'info|imageinfo|categoryinfo'), ('inprop', 'protection'), ('iiprop', 'timestamp|user|comment|url|size|sha1|metadata'), ('generator', 'allimages'), ('action', 'query'), ('indexpageids', ''), ('continue', ''), ('gaisha1', 'aa3db18132f20544b7ccf7277b9b4b0cdd2def06'), ('gailimit', '500'), ('meta', 'userinfo'), ('uiprop', 'blockinfo|hasmsg'), ('maxlag', '5'), ('format', 'json')]\n",
      "2018-01-20 21:16:53,338 oauthlib.oauth1.rfc5849 DEBUG    Normalized params: action=query&continue=&format=json&gaifrom=%21&gailimit=500&gaisha1=aa3db18132f20544b7ccf7277b9b4b0cdd2def06&generator=allimages&iiprop=timestamp%7Cuser%7Ccomment%7Curl%7Csize%7Csha1%7Cmetadata&indexpageids=&inprop=protection&maxlag=5&meta=userinfo&oauth_consumer_key=0a73e346a40b07262b6e36bdba01cba4&oauth_nonce=16917610888969901381516483013&oauth_signature_method=HMAC-SHA1&oauth_timestamp=1516483013&oauth_token=5ca4fafa5dd85bb0ecf516d96ad6bf07&oauth_version=1.0&prop=info%7Cimageinfo%7Ccategoryinfo&uiprop=blockinfo%7Chasmsg\n"
     ]
    },
    {
     "name": "stdout",
     "output_type": "stream",
     "text": [
      "RR Status 200\n",
      "Image accessed\n"
     ]
    },
    {
     "name": "stderr",
     "output_type": "stream",
     "text": [
      "2018-01-20 21:16:53,346 oauthlib.oauth1.rfc5849 DEBUG    Normalized URI: https://commons.wikimedia.org/w/api.php\n",
      "2018-01-20 21:16:53,347 oauthlib.oauth1.rfc5849 DEBUG    Signing: signature base string: POST&https%3A%2F%2Fcommons.wikimedia.org%2Fw%2Fapi.php&action%3Dquery%26continue%3D%26format%3Djson%26gaifrom%3D%2521%26gailimit%3D500%26gaisha1%3Daa3db18132f20544b7ccf7277b9b4b0cdd2def06%26generator%3Dallimages%26iiprop%3Dtimestamp%257Cuser%257Ccomment%257Curl%257Csize%257Csha1%257Cmetadata%26indexpageids%3D%26inprop%3Dprotection%26maxlag%3D5%26meta%3Duserinfo%26oauth_consumer_key%3D0a73e346a40b07262b6e36bdba01cba4%26oauth_nonce%3D16917610888969901381516483013%26oauth_signature_method%3DHMAC-SHA1%26oauth_timestamp%3D1516483013%26oauth_token%3D5ca4fafa5dd85bb0ecf516d96ad6bf07%26oauth_version%3D1.0%26prop%3Dinfo%257Cimageinfo%257Ccategoryinfo%26uiprop%3Dblockinfo%257Chasmsg\n",
      "2018-01-20 21:16:53,348 oauthlib.oauth1.rfc5849 DEBUG    Signature: 9+6jeUBJAtTgj94U1pQcHq0jeYo=\n",
      "2018-01-20 21:16:53,350 oauthlib.oauth1.rfc5849 DEBUG    Encoding URI, headers and body to utf-8.\n",
      "2018-01-20 21:16:53,357 requests_oauthlib.oauth1_auth DEBUG    Updated url: https://commons.wikimedia.org/w/api.php\n",
      "2018-01-20 21:16:53,357 requests_oauthlib.oauth1_auth DEBUG    Updated headers: {b'user-agent': b'ipykernel_launcher (commons:commons; User:Discasto) Pywikibot/3.0-dev (g8918) requests/2.18.4 Python/3.6.3.final.0', b'Accept-Encoding': b'gzip, deflate', b'Accept': b'*/*', b'Connection': b'keep-alive', b'Content-Type': b'application/x-www-form-urlencoded', b'Cookie': b'GeoIP=:::::v4; WMF-Last-Access=20-Jan-2018', b'Content-Length': b'311', b'Authorization': b'OAuth oauth_nonce=\"16917610888969901381516483013\", oauth_timestamp=\"1516483013\", oauth_version=\"1.0\", oauth_signature_method=\"HMAC-SHA1\", oauth_consumer_key=\"0a73e346a40b07262b6e36bdba01cba4\", oauth_token=\"5ca4fafa5dd85bb0ecf516d96ad6bf07\", oauth_signature=\"9%2B6jeUBJAtTgj94U1pQcHq0jeYo%3D\"'}\n",
      "2018-01-20 21:16:53,358 requests_oauthlib.oauth1_auth DEBUG    Updated body: b'gaifrom=%21&prop=info%7Cimageinfo%7Ccategoryinfo&inprop=protection&iiprop=timestamp%7Cuser%7Ccomment%7Curl%7Csize%7Csha1%7Cmetadata&generator=allimages&action=query&indexpageids=&continue=&gaisha1=aa3db18132f20544b7ccf7277b9b4b0cdd2def06&gailimit=500&meta=userinfo&uiprop=blockinfo%7Chasmsg&maxlag=5&format=json'\n"
     ]
    },
    {
     "name": "stdout",
     "output_type": "stream",
     "text": [
      "[[commons:File:José María Aznar recibe un volumen sobre \"El Sitio\" de Bilbao del historiador José Manuel Azcona.jpg]]\n",
      "Image already in commons. Leaving\n"
     ]
    }
   ],
   "source": [
    "used_names = []\n",
    "\n",
    "for url in urls :\n",
    "    cats = categories[:]\n",
    "    while True:\n",
    "        request = req_proxy.generate_proxied_request(url)\n",
    "        if request is not None:\n",
    "            #print(\"{0}\".format(u''.join(request.text).encode('utf-8')))\n",
    "            response = request.text\n",
    "            break\n",
    "        else :\n",
    "            print ('Trying')\n",
    "\n",
    "    soup = BeautifulSoup(response, 'html.parser')\n",
    "    author = contents[0]\n",
    "    if \"Pool\" not in author :\n",
    "        print (\"Image from a party other than Moncloa. Skipping\")\n",
    "        continue        \n",
    "\n",
    "    title = soup.find_all(\"h1\", class_=\"contenidoTitulo\")[0].get_text().strip().replace(':', ' - ').replace('  ', ' ')\n",
    "    try:\n",
    "        date_string = soup.find_all(\"div\", class_=\"contenidoFecha\")[0].get_text()\n",
    "        pub_date_sp = ' '.join(date_string.strip().split(' ')[-4:])\n",
    "        parsed_pub_date = dp.parse(pub_date_sp)\n",
    "        pub_date = parsed_pub_date.strftime('%Y-%m-%d')\n",
    "    \n",
    "        year_date = parsed_pub_date.strftime('%Y')\n",
    "        if 'La Moncloa' in date_string:\n",
    "            cats.append('Palacio de la Moncloa')\n",
    "            cats.append(year_date + ' in Madrid')\n",
    "    except :\n",
    "        pub_date = None\n",
    "    contents = soup.find_all(\"div\", class_=\"entradillaContenedor\")[0].get_text().strip().replace('\\t', '').split('\\r\\n')\n",
    "    contents = [item.replace('\\n', '') for item in contents if len(item)>0]\n",
    "\n",
    "    description = contents[1]\n",
    "    image_url = 'http://www.lamoncloa.gob.es' + soup.find_all(\"a\", id=\"ctl00_PlaceHolderMain_DisplayMode_aDescargar\")[0]['href']\n",
    "\n",
    "    vars = {\n",
    "        \"url\": image_url,\n",
    "        \"description\": description,\n",
    "        \"author\": author,\n",
    "        \"date\": pub_date,\n",
    "        \"title\": title,\n",
    "        \"cat_string\": '\\n'.join(['[[Category:'+i+']]' for i in cats])\n",
    "    }\n",
    "    t = Template(template)\n",
    "    _text = t.render(**vars)\n",
    "    \n",
    "    # First, the image is downloaded and stored\n",
    "    image_name = '{}.jpg'.format(title.replace(':', ' -').replace('  ', ' '))\n",
    "    image_path = os.path.join(images_directory, image_name)\n",
    "\n",
    "    while True:\n",
    "        print ('Trying download')\n",
    "        img_request = req_proxy.generate_proxied_request(image_url)\n",
    "        if img_request is not None:\n",
    "            image = Image.open(BytesIO(img_request.content))\n",
    "            image.save(image_path)\n",
    "            print ('Image accessed')\n",
    "            break\n",
    "        else :\n",
    "            print ('Still trying download')\n",
    "\n",
    "    # If the image is already in Commons, skip\n",
    "    if is_commons_file(get_hash(image_path)) :\n",
    "        print (\"Image already in commons. Leaving\")\n",
    "    else :\n",
    "        # If the image name is already in commons, find a new name\n",
    "        if pb.Page(commons_site, image_name, ns=6).exists():\n",
    "            print (\"Image name ({0}) already used in Commons\".format(image_name))\n",
    "            used_names.append(image_name)\n",
    "        \n",
    "        while True:\n",
    "            if image_name in used_names :\n",
    "                # Finding a new name\n",
    "                image_subject = '.'.join(image_name.split('.')[:-1])\n",
    "                image_extension = 'jpg'\n",
    "                p = re.compile('(.*) ([0-9]{2}\\.jpg)')\n",
    "                m = p.match(image_name)\n",
    "                if m is None:\n",
    "                    image_name = image_subject + ' 01.' + image_extension\n",
    "                else :\n",
    "                    counter = int(m.group(2)[:2]) + 1\n",
    "                    image_name = '{} {:02d}.{}'.format(m.group(1), counter, image_extension)\n",
    "\n",
    "                if pb.Page(commons_site, image_name, ns=6).exists():\n",
    "                    print (\"Image name ({0}) already used in Commons. Finding a new name\".format(image_name))\n",
    "                    used_names.append(image_name)\n",
    "            else :\n",
    "                print (\"Preparing to upload image with name {0}\".format(image_name))\n",
    "                used_names.append(image_name)\n",
    "                break\n",
    "\n",
    "        # image upload\n",
    "        bot = UploadRobot(image_path,\n",
    "                          description = _text,\n",
    "                          useFilename = image_name,\n",
    "                          keepFilename = True,\n",
    "                          verifyDescription = False,\n",
    "                          ignoreWarning = True,\n",
    "                          targetSite = commons_site)\n",
    "        #bot.run()\n",
    "\n",
    "    os.remove(image_path)"
   ]
  },
  {
   "cell_type": "code",
   "execution_count": null,
   "metadata": {},
   "outputs": [],
   "source": []
  }
 ],
 "metadata": {
  "kernelspec": {
   "display_name": "Python 3",
   "language": "python",
   "name": "python3"
  },
  "language_info": {
   "codemirror_mode": {
    "name": "ipython",
    "version": 3
   },
   "file_extension": ".py",
   "mimetype": "text/x-python",
   "name": "python",
   "nbconvert_exporter": "python",
   "pygments_lexer": "ipython3",
   "version": "3.6.3"
  }
 },
 "nbformat": 4,
 "nbformat_minor": 2
}
